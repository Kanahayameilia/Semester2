{
  "nbformat": 4,
  "nbformat_minor": 0,
  "metadata": {
    "colab": {
      "provenance": []
    },
    "kernelspec": {
      "name": "python3",
      "display_name": "Python 3"
    },
    "language_info": {
      "name": "python"
    }
  },
  "cells": [
    {
      "cell_type": "markdown",
      "source": [
        "Dalam kehidupan sehari-hari, kita sering menemukan berbagai sistem yang saling terhubung.\n",
        "di antara elemen, seperti jaringan jalan antar kota, hubungan pertemanan di media sosial, serta aliran listrik.\n",
        "antar stasiun, atau bahkan jalur pengiriman barang. Hubungan-hubungan ini tidak dapat\n",
        "tidak perlu direpresentasikan secara linier seperti array atau linked list, tetapi memerlukan suatu model\n",
        "yang lebih luwes dan rumit. Struktur data Graf (graf) muncul sebagai solusi untuk\n",
        "Mewakili hubungan itu dalam format yang teratur dan saling terhubung.\n",
        "\n",
        "\n",
        "1. Pengertian Graf\n",
        "\n",
        "Graf adalah struktur data non-linier yang terdiri dari dua komponen utama: simpul.\n",
        "Simpul dan sisi. Vertex merepresentasikan sebuah entitas atau objek, sedangkan edge menggambarkan hubungan atau keterkaitan di antara entitas-entitas tersebut.\n",
        "keterkaitan antara objek-objek tersebut. Dalam bidang pemrograman, grafik digunakan untuk\n",
        "Membuat model untuk sistem yang rumit dengan berbagai hubungan, seperti jaringan sosial dan keterhubungan.\n",
        "jaringan komputer, sistem transportasi, atau jalur penerbangan.\n",
        "Secara matematis, graf dinyatakan sebagai G = (V, E), di mana V merupakan kumpulan simpul.\n",
        "Dan E merupakan kumpulan sisi. Sisi dapat berbentuk tidak berarah (undirected), yang\n",
        "mengungkapkan hubungan dua pihak, atau berarah (directed), yang menunjukkan arah yang spesifik\n",
        "dari satu titik sudut ke titik sudut lainnya. Grafik dapat memiliki ratusan hingga ribuan titik atau simpul dan\n",
        "Hubungan tersebut bergantung pada tingkat kompleksitas dari sistem yang sedang dimodelkan.\n",
        "\n",
        "Berikut adalah beberapa istilah penting yang harus dimengerti dalam grafik:\n",
        "- Vertex (V): suatu titik atau simpul yang menggambarkan suatu objek.\n",
        "- Edge (E): sebuah garis atau panah yang menghubungkan dua titik.\n",
        "- Degree: jumlah sisi yang terhubung dengan sebuah titik.\n",
        "- Path: rangkaian titik yang dilintasi dari satu simpul ke simpul lainnya.\n",
        "- Cycle: jalur yang kembali ke titik asal.\n",
        "- Adjacent: dua simpul yang secara langsung dihubungkan oleh satu sisi.\n",
        "- Connected: keadaan di mana dua simpul dapat saling dijangkau.\n",
        "\n",
        "Sebagai perbandingan, bayangkan Anda sedang mengamati sebuah peta jalan. Setiap lokasi kota yang terdapat di dalam peta.\n",
        "Titik pertemuan tersebut disebut vertex, sedangkan jalur yang menghubungkan antar kota disebut edge. Jika jalan memiliki dua arah, maka hal tersebut\n",
        "Mewakili grafik tanpa arah. Jika akses hanya dapat dilakukan dari satu arah (contohnya jalan tol yang hanya mengarah satu arah),\n",
        "Oleh karena itu, itu adalah grafik yang memiliki arah. Grafik juga dapat menggambarkan susunan jaringan listrik, di\n",
        "Gardu berfungsi sebagai simpul, sedangkan kabel berperan sebagai penghubung sisi.\n",
        "\n",
        "Grafik menjadi sangat penting karena banyak masalah di dunia nyata tidak dapat diatasi.\n",
        "hanya menggunakan struktur linier seperti array atau daftar terhubung. Dalam suatu sistem yang rumit, kita\n",
        "Sering kali penting untuk memahami cara suatu elemen terhubung dengan elemen lainnya.\n",
        "Bukan hanya susunannya. Di sini, grafik menjadi alat yang sangat berguna dalam perancangan.\n",
        "Algoritma dan struktur data yang lebih kompleks.\n",
        "\n",
        "2. Representasi Graf\n",
        "\n",
        "Untuk memastikan bahwa struktur graf dapat berfungsi dengan baik dalam program komputer, kita perlu\n",
        "Menyajikannya dalam format yang mudah diakses dan dapat diubah. Dua jenis\n",
        "Representasi graf yang paling umum adalah matriks ketetanggaan dan daftar ketetanggaan. Setiap jenis memiliki keunggulan dan kelemahan, tergantung pada tipe grafik yang dihadapi dan\n",
        "tindakan yang hendak dilaksanakan.\n",
        "\n",
        "2.1  Adjacency Matrix\n",
        "Matriks kedekatan menggambarkan graf dalam format matriks dua dimensi berukuran\n",
        "nxn, di mana n menunjukkan jumlah simpul. Apabila terdapat sisi dari simpul i ke simpul j, maka\n",
        "matrix[i][j] = 1 (atau nilai tertentu jika graf memiliki bobot). Apabila tidak terdapat edge, maka nilai\n",
        "Jumlah tersebut adalah nol. Contoh matriks kedekatan untuk graf tanpa arah dengan 4 titik:\n",
        "Setiap baris dan kolom merepresentasikan simpul, sementara isi sel menggambarkan hubungan antara simpul-simpul tersebut.\n",
        "\n",
        "Keunggulan:\n",
        "Sangat mudah untuk memeriksa apakah terdapat hubungan antara dua simpul (kompleksitas O(1)).\n",
        "Sederhana untuk diterapkan dan digunakan pada grafik yang kecil atau padat.\n",
        "\n",
        "Kelemahan:\n",
        "Menggunakan ruang yang sebesar O(n²) menyebabkan penggunaan memori yang berlebih, bahkan untuk grafik yang\n",
        "Jarang (sparse) tepi.\n",
        "Iterasi tetangga dari sebuah simpul memerlukan penelusuran satu baris secara utuh.\n",
        "\n",
        "2.2  Adjacency List\n",
        "menyimpan informasi mengenai tetangga dari setiap simpul. Umumnya, hal ini\n",
        "direpresentasikan sebagai kamus atau daftar daftar, di mana setiap kunci atau indeks, menyimpan list dari vertex yang terhubung dengannya. Representasi ini lebih hemat ruang, terutama jika graph hanya memiliki sedikit edge\n",
        "dibandingkan jumlah total simpul (sparse graph).\n",
        "\n",
        "Keunggulan:\n",
        "Menghemat penggunaan memori, khususnya untuk graf jarang, karena hanya menyimpan sisi yang.\n",
        "Tentu saja, itu benar-benar ada.\n",
        "Lebih efektif untuk melakukan iterasi pada tetangga simpul karena hanya perlu menjelajahi daftar yang\n",
        "Referensikan.\n",
        "Fleksibel untuk grafik yang berukuran besar atau struktur yang berubah-ubah.\n",
        "\n",
        "Kekurangan:\n",
        "Memeriksa apakah dua node saling terhubung memerlukan proses pencarian (O(k),\n",
        "dengan k = ukuran daftar).\n",
        "Tidak sesuai untuk prosedur yang memerlukan akses langsung antara node secara\n",
        "Dengan segera.\n",
        "\n",
        "3. Tipe-Tipe Graf\n",
        "Grafik memiliki berbagai bentuk yang dapat dikelompokkan berdasarkan ciri-cirinya.\n",
        "sisi (tepi), arah hubungan antar titik, berat, lingkaran, serta tingkat koneksi. Setiap jenis memiliki ciri khas dan fungsi yang berbeda dalam berbagai konteks aplikasi.\n",
        "Pemahaman mengenai jenis-jenis grafik ini sangat krusial karena algoritma dan struktur.\n",
        "Penyimpanan yang digunakan akan sangat tergantung pada jenis graf yang dimaksud.\n",
        "Berikut adalah beberapa kategori umum graf dalam bidang ilmu komputer dan rekayasa.\n",
        "Perangkat lunak:\n",
        "a. Menurut Arah Sisi (Terarah vs Tidak Terarah)\n",
        "\n",
        "Graf Berarah adalah jenis graf di mana setiap sisi memiliki satu arah.\n",
        "Silakan beri teks yang ingin Anda parafrasekan agar saya dapat membantu Anda dengan permintaan tersebut. Ini terlihat melalui panah yang menghubungkan satu simpul dengan simpul lainnya.\n",
        "Contoh penerapannya adalah interaksi \"mengikuti\" di media sosial, aliran informasi.\n",
        "Listrik, atau rangkaian langkah-langkah.\n",
        "\n",
        "Graf Tak Berarah tidak memiliki arah pada sisi-sisi yang menghubungkannya.\n",
        "Hubungan antara dua simpul adalah bersifat timbal balik atau dua arah, seperti\n",
        "hubungan persahabatan atau koneksi jaringan sebaya.\n",
        "\n",
        "b. Berdasarkan Penilaian Dengan Bobot (Bertimbang vs Tanpa Bobot)\n",
        "\n",
        "Graf Berbobot memiliki nilai atau bobot pada setiap sisi. Bobot ini dapat\n",
        "seperti jarak, biaya, waktu, atau kapasitas. Struktur ini sering digunakan dalam\n",
        "Mencari rute paling singkat atau penghematan biaya.\n",
        "\n",
        "Graf tidak berbobot menganggap setiap sisi memiliki nilai yang setara. Hal ini digunakan.\n",
        "ketika nilai hubungan antara titik tidak penting atau tidak diperlukan.\n",
        "\n",
        "c. Berdasarkan Adanya Siklus (Siklis vs Tidak Siklis)\n",
        "\n",
        "Grafik Siklis memiliki satu atau lebih jalur yang tertutup, atau siklus, yang kembali.\n",
        "ke titik awal. Siklus ini dapat mencerminkan proses yang terjadi berulang kali, seperti halnya suatu loop.\n",
        "dalam sistem produksi atau jaringan jalan di perkotaan.\n",
        "\n",
        "Graf Acyclic tidak memiliki siklus. Jika grafik tersebut adalah berarah dan tidak\n",
        "Jika tidak memiliki siklus, maka disebut Graph Acyclic Terarah (DAG), yang banyak\n",
        "Digunakan untuk menguraikan urutan ketergantungan dalam proyek atau proses kompilasi.\n",
        "Silakan berikan teks yang perlu diparafrase agar saya dapat membantu Anda.\n",
        "\n",
        "d. Berdasarkan Keterkaitan (Terkoneksi vs Terputus)\n",
        "\n",
        "Graph Terhubung adalah graf di mana setiap simpul dapat diakses dari\n",
        "Simpul lainnya, baik melalui cara langsung maupun melalui rute tertentu.\n",
        "\n",
        "Grafik Terputus memiliki satu atau lebih titik yang tidak dapat\n",
        "dapat dicapai dari titik lain. Dalam kajian jaringan, elemen yang terpisah ini\n",
        "sering dipandang sebagai elemen yang saling terhubung (connected components) yang\n",
        "berdiri secara mandiri.\n",
        "\n",
        "Dengan memahami kategori ini, kita dapat menentukan cara penyajian data dan algoritma.\n",
        "Pemrosesan yang paling tepat untuk masalah yang sedang dihadapi, baik itu analisis.\n",
        "Jaringan, pengoptimalan jalur, penjadwalan, atau pengelompokan titik.\n",
        "\n",
        "\n",
        "4. Perjalanan dalam Graf\n",
        "\n",
        "Penelusuran atau traversal merupakan proses yang dilakukan untuk mengunjungi setiap node dalam grafik agar\n",
        "Menilai, mengolah, atau mendapatkan informasi yang telah disimpan. Karena grafik bukan\n",
        "Struktur linear tidak dapat kita telusuri menggunakan urutan indeks seperti yang dilakukan pada array atau.\n",
        "Tolong buat daftar. Oleh karena itu, penerapan strategi yang tepat diperlukan dalam traversal agar seluruh simpul dapat dikunjungi.\n",
        "tanpa mengalami keterlambatan atau terperangkap dalam putaran yang sama.\n",
        "Dua metode pencarian yang paling sering digunakan adalah Breadth First Search (BFS) dan\n",
        "Penelusuran Berdasarkan Kedalaman (DFS). Kedua metode ini umum dipakai dalam banyak algoritma graf,\n",
        "termasuk penelusuran jalur terpendek, identifikasi siklus, pengelompokan node, dan pencarian\n",
        "elemen yang terintegrasi satu sama lain.\n",
        "Breadth First Search (BFS) beroperasi dengan menjelajahi node-node yang berada pada tingkat yang sama.\n",
        "Sama terlebih dahulu sebelum melanjutkan ke tingkat selanjutnya. BFS memanfaatkan antrian.\n",
        "untuk menyimpan node yang akan dikunjungi. Simpul yang pertama kali ditemukan akan\n",
        "Diproses terlebih dahulu, setelah itu tetangganya dimasukkan ke dalam antrean. Proses ini\n",
        "terus menerus sampai semua titik telah dikunjungi. BFS sangat sesuai untuk menemukan rute.\n",
        "jalur terpendek pada graf yang tidak berbobot adalah pendekatan yang menjelajahi semua tetangga terdekat.\n",
        "Silakan lakukan terlebih dahulu.\n",
        "\n",
        "Sebaliknya, Depth First Search (DFS) beroperasi dengan menjelajahi satu cabang hingga kedalaman maksimum.\n",
        "Sebelum melakukan langkah mundur dan meneruskan ke jalur yang berbeda. DFS umumnya\n",
        "Dilaksanakan dengan menggunakan rekursi atau tumpukan, dan sangat bermanfaat dalam situasi yang\n",
        "memerlukan kajian yang mendalam, seperti menemukan elemen yang saling terkait atau\n",
        "Melaksanakan pengurutan topologi pada grafik yang berarah. DFS juga dimanfaatkan dalam identifikasi siklus,\n",
        "terutama pada grafik yang memiliki arah.\n",
        "Perbedaan utama antara BFS dan DFS terdapat pada urutan penjelajahan. BFS melakukan penelusuran.\n",
        "Secara merata, mengutamakan semua simpul yang berdekatan, sedangkan DFS akan menjelajahi lebih dalam ke dalam.\n",
        "Menuju satu arah hingga mencapai batas, kemudian kembali ke atas. Pemilihan metode penelusuran sangat bergantung\n",
        "terhadap kebutuhan aplikasi. Apabila tujuan yang hendak dicapai adalah untuk menemukan rute terpendek, maka pencarian dengan metode BFS lebih\n",
        "Sesuai. Namun, jika Anda ingin menyelidiki semua kemungkinan dari satu titik ke titik lainnya\n",
        "Selain itu, DFS sering kali menjadi opsi yang paling diutamakan.\n",
        "Dengan memahami kedua metode penelusuran ini, kita dapat membangun fondasi yang kokoh untuk\n",
        "Membuat algoritma-algoritma canggih dalam pengolahan grafik.\n"
      ],
      "metadata": {
        "id": "h8TLWlmmQ-M5"
      }
    },
    {
      "cell_type": "markdown",
      "source": [
        "1. Penggambaran Graf menggunakan Daftar Ketetanggaan\n",
        "Graf merupakan sebuah struktur data yang terdiri atas simpul (vertex) dan sisi (edge). Silakan berikan teks yang ingin Anda parafrasekan, dan saya akan membantu mengubahnya dengan bahasa yang lebih sederhana namun tetap formal.\n",
        "Python, graf dapat direpresentasikan dengan menggunakan kamus yang memuat daftar.\n",
        "Kedekatan dari setiap simpul.\n",
        "Contoh Kode Program:"
      ],
      "metadata": {
        "id": "xcz05t-epZ91"
      }
    },
    {
      "cell_type": "code",
      "execution_count": 2,
      "metadata": {
        "colab": {
          "base_uri": "https://localhost:8080/"
        },
        "id": "e4EUb_0SQPOi",
        "outputId": "75c36d1a-4c9d-4c86-c001-36562e9052fa"
      },
      "outputs": [
        {
          "output_type": "stream",
          "name": "stdout",
          "text": [
            "A -> ['B', 'C']\n",
            "B -> ['A', 'D', 'E']\n",
            "C -> ['A', 'F']\n",
            "D -> ['B']\n",
            "E -> ['B', 'F']\n",
            "F -> ['C', 'E']\n"
          ]
        }
      ],
      "source": [
        "# Membuat graf tak berarah menggunakan adjacency list\n",
        "graph = {\n",
        "    'A': ['B', 'C'],\n",
        "    'B': ['A', 'D', 'E'],\n",
        "    'C': ['A', 'F'],\n",
        "    'D': ['B'],\n",
        "    'E': ['B', 'F'],\n",
        "    'F': ['C', 'E']\n",
        "}\n",
        "\n",
        "# Menampilkan graf\n",
        "def print_graph(graf):\n",
        "  for node in graf:\n",
        "    print (f\"{node} -> {graf [node]}\")\n",
        "\n",
        "print_graph(graph)"
      ]
    },
    {
      "cell_type": "markdown",
      "source": [
        "Graf dapat didefinisikan sebagai kamus, di mana setiap kunci merepresentasikan simpul, dan\n",
        "Nilainya merupakan daftar dari titik-titik yang saling terhubung.\n",
        "Fungsi print_graph menampilkan seluruh simpul beserta daftar tetangganya.\n"
      ],
      "metadata": {
        "id": "adr-RJYUpsac"
      }
    },
    {
      "cell_type": "markdown",
      "source": [
        "2. Penelusuran Graf dengan menggunakan BFS\n",
        "Breadth-First Search (BFS) melakukan penjelajahan pada graf secara berjenjang, dimulai dari titik awal.\n",
        "Pertama, kemudian mengunjungi simpul yang berdekatan, selanjutnya kepada simpul-simpul.\n",
        "Bertetangga dengan seseorang, lalu melanjutkan dengan orang lain.\n",
        "Contoh Kode Program:\n"
      ],
      "metadata": {
        "id": "3198tMlup70J"
      }
    },
    {
      "cell_type": "code",
      "source": [
        "from collections import deque\n",
        "\n",
        "def bfs(graph, start):\n",
        "  visited = set()\n",
        "  queue = deque ([start])\n",
        "\n",
        "  while queue:\n",
        "    vertex = queue.popleft()\n",
        "    if vertex not in visited:\n",
        "      print (vertex, end=\" \")\n",
        "      visited.add(vertex)\n",
        "      queue.extend([neighbor for neighbor in graph[vertex] if neighbor\n",
        "not in visited])\n",
        "\n",
        "# Contoh pemanggilan\n",
        "bfs (graph, 'A')\n"
      ],
      "metadata": {
        "colab": {
          "base_uri": "https://localhost:8080/"
        },
        "id": "Z9MnoIKGqLYd",
        "outputId": "c45c0b96-7993-4c83-9530-e73d6ae9a595"
      },
      "execution_count": 3,
      "outputs": [
        {
          "output_type": "stream",
          "name": "stdout",
          "text": [
            "A B C D E F "
          ]
        }
      ]
    },
    {
      "cell_type": "markdown",
      "source": [
        "Pnjelasan:\n",
        "Deque digunakan untuk meningkatkan efisiensi dalam pengelolaan antrian.\n",
        "Set yang telah dikunjungi menyimpan simpul-simpul yang sudah diteruskan.\n",
        "Fungsi untuk mencetak daftar kunjungan yang dimulai dari simpul awal.\n"
      ],
      "metadata": {
        "id": "PpZMWJJLqk_m"
      }
    },
    {
      "cell_type": "markdown",
      "source": [
        "3. Penelusuran Graf dengan menggunakan DFS\n",
        "Depth-First Search (DFS) menjelajahi graf dengan cara menjelajah sampai kedalaman maksimal ke\n",
        "Satu rute sebelum kembali dan melalui rute yang berbeda.\n",
        "Contoh Kode Program:\n"
      ],
      "metadata": {
        "id": "ae3Od1lkrKuY"
      }
    },
    {
      "cell_type": "code",
      "source": [
        "def dfs(graph, start, visited=None):\n",
        "  if visited is None:\n",
        "    visited = set ()\n",
        "\n",
        "  if start not in visited:\n",
        "    print(start, end=\" \")\n",
        "    visited.add(start)\n",
        "    for neighbor in graph[start]:\n",
        "      dfs (graph, neighbor, visited)\n",
        "\n",
        "# Contoh pemanggilan\n",
        "dfs (graph, 'A')"
      ],
      "metadata": {
        "colab": {
          "base_uri": "https://localhost:8080/"
        },
        "id": "B3qn0pyqrPrE",
        "outputId": "0a2fc6a0-8a8f-433b-b9cc-1c701304c15e"
      },
      "execution_count": 4,
      "outputs": [
        {
          "output_type": "stream",
          "name": "stdout",
          "text": [
            "A B D E F C "
          ]
        }
      ]
    },
    {
      "cell_type": "markdown",
      "source": [
        "Penjelasan.\n",
        "DFS menggunakan metode rekursif untuk menelusuri simpul.\n",
        "Set yang dikunjungi mencegah adanya kunjungan yang sama.\n",
        "Fungsi untuk mencetak node berdasarkan urutan First Depth Search (DFS).\n"
      ],
      "metadata": {
        "id": "hLyS3wOzrkYD"
      }
    },
    {
      "cell_type": "markdown",
      "source": [
        "4. Latihan Individu\n",
        "Tingkatkan pemahaman Anda dengan mengerjakan kode berikut:\n",
        "Contoh Kode Pemrograman:\n"
      ],
      "metadata": {
        "id": "B1K2RQnPruDv"
      }
    },
    {
      "cell_type": "code",
      "source": [
        "# Fungsi untuk menghitung jumlah tetangga dari tiap simpul dalam graf\n",
        "def count_neighbors(graph):\n",
        "    result = {}\n",
        "    for node in graph:\n",
        "        # Menghitung jumlah tetangga dengan menghitung panjang daftar tetangga\n",
        "        result[node] = len(graph[node])\n",
        "    return result\n",
        "\n",
        "# Contoh penggunaan\n",
        "graph = {\n",
        "    'A': ['B', 'C'],\n",
        "    'B': ['A'],\n",
        "    'C': ['A', 'D'],\n",
        "    'D': ['C']\n",
        "}\n",
        "\n",
        "print(count_neighbors(graph))\n"
      ],
      "metadata": {
        "colab": {
          "base_uri": "https://localhost:8080/"
        },
        "id": "1DxXsxhor4e5",
        "outputId": "fc4b4c03-5a71-4c28-b553-b41c4fa678bf"
      },
      "execution_count": 6,
      "outputs": [
        {
          "output_type": "stream",
          "name": "stdout",
          "text": [
            "{'A': 2, 'B': 1, 'C': 2, 'D': 1}\n"
          ]
        }
      ]
    },
    {
      "cell_type": "markdown",
      "source": [
        "Penjelasan:\n",
        "Fungsi ini menerima masukan dalam bentuk kamus (graf yang disusun dalam bentuk daftar ketetanggaan).\n",
        "Untuk setiap simpul, ia menghitung jumlah tetangga yang dimiliki dengan memanfaatkan fungsi len.\n",
        "Hasilnya disimpan dalam kamus yang disebut result, yang selanjutnya akan dikembalikan.\n"
      ],
      "metadata": {
        "id": "Oq3xrDDRsi_b"
      }
    },
    {
      "cell_type": "markdown",
      "source": [
        "D. LATIHAN / TUGAS\n",
        "1. Buatlah graf tak berarah baru dengan minimal 5 simpul dan 7 sisi, lalu tampilkan\n",
        "dengan fungsi print_graph.\n",
        "2. Implementasikan BFS dan DFS dari simpul awal pilihan Anda.\n",
        "3. Modifikasi fungsi BFS agar mengembalikan list urutan kunjungan, bukan hanya\n",
        "mencetak.\n",
        "4. Buat fungsi find_path(graph, start, end) yang mengembalikan satu jalur dari start\n",
        "ke end jika ada, menggunakan DFS.\n",
        "5. Tambahkan fungsi is_connected(graph) untuk mengecek apakah semua simpul\n",
        "dalam graf saling terhubung (gunakan kombinasi DFS + logika).\n"
      ],
      "metadata": {
        "id": "AExf1C-ksncr"
      }
    },
    {
      "cell_type": "code",
      "source": [
        "from collections import deque\n",
        "\n",
        "# 1. Buat graf tak berarah\n",
        "graph = {\n",
        "    'A': ['B', 'C'],\n",
        "    'B': ['A', 'C', 'D'],\n",
        "    'C': ['A', 'B', 'E'],\n",
        "    'D': ['B', 'E'],\n",
        "    'E': ['C', 'D']\n",
        "}\n",
        "\n",
        "# Fungsi untuk mencetak graf\n",
        "def print_graph(g):\n",
        "    for node in g:\n",
        "        print(f\"{node}: {g[node]}\")\n",
        "\n",
        "print(\"Graf:\")\n",
        "print_graph(graph)\n",
        "\n",
        "# 2. Implementasi BFS\n",
        "def bfs(graph, start):\n",
        "    visited = set()\n",
        "    queue = deque([start])\n",
        "\n",
        "    print(\"\\nBFS traversal:\")\n",
        "    while queue:\n",
        "        vertex = queue.popleft()\n",
        "        if vertex not in visited:\n",
        "            print(vertex, end=\" \")\n",
        "            visited.add(vertex)\n",
        "            queue.extend([neighbor for neighbor in graph[vertex] if neighbor not in visited])\n",
        "\n",
        "# 2. Implementasi DFS\n",
        "def dfs(graph, start, visited=None):\n",
        "    if visited is None:\n",
        "        visited = set()\n",
        "        print(\"\\nDFS traversal:\")\n",
        "\n",
        "    if start not in visited:\n",
        "        print(start, end=\" \")\n",
        "        visited.add(start)\n",
        "        for neighbor in graph[start]:\n",
        "            dfs(graph, neighbor, visited)\n",
        "\n",
        "# 3. BFS yang mengembalikan list\n",
        "def bfs_list(graph, start):\n",
        "    visited = set()\n",
        "    queue = deque([start])\n",
        "    order = []\n",
        "\n",
        "    while queue:\n",
        "        vertex = queue.popleft()\n",
        "        if vertex not in visited:\n",
        "            order.append(vertex)\n",
        "            visited.add(vertex)\n",
        "            queue.extend([neighbor for neighbor in graph[vertex] if neighbor not in visited])\n",
        "    return order\n",
        "\n",
        "# 4. Fungsi find_path menggunakan DFS\n",
        "def find_path(graph, start, end, path=None, visited=None):\n",
        "    if path is None:\n",
        "        path = []\n",
        "    if visited is None:\n",
        "        visited = set()\n",
        "    path = path + [start]\n",
        "    visited.add(start)\n",
        "\n",
        "    if start == end:\n",
        "        return path\n",
        "\n",
        "    for neighbor in graph[start]:\n",
        "        if neighbor not in visited:\n",
        "            new_path = find_path(graph, neighbor, end, path, visited)\n",
        "            if new_path:\n",
        "                return new_path\n",
        "    return None\n",
        "\n",
        "# 5. Cek apakah graf terhubung\n",
        "def is_connected(graph):\n",
        "    start = next(iter(graph))\n",
        "    visited = set()\n",
        "\n",
        "    def dfs_conn(g, v):\n",
        "        if v not in visited:\n",
        "            visited.add(v)\n",
        "            for neighbor in g[v]:\n",
        "                dfs_conn(g, neighbor)\n",
        "\n",
        "    dfs_conn(graph, start)\n",
        "    return len(visited) == len(graph)\n",
        "\n",
        "# Contoh penggunaan\n",
        "bfs(graph, 'A')\n",
        "dfs(graph, 'A')\n",
        "\n",
        "print(\"\\n\\nBFS list dari A:\", bfs_list(graph, 'A'))\n",
        "print(\"Path dari A ke E:\", find_path(graph, 'A', 'E'))\n",
        "print(\"Apakah graf terhubung?\", is_connected(graph))\n"
      ],
      "metadata": {
        "colab": {
          "base_uri": "https://localhost:8080/"
        },
        "id": "m-d3dfSYs5kw",
        "outputId": "5def416c-01f8-427c-9e12-27cf0128a524"
      },
      "execution_count": 7,
      "outputs": [
        {
          "output_type": "stream",
          "name": "stdout",
          "text": [
            "Graf:\n",
            "A: ['B', 'C']\n",
            "B: ['A', 'C', 'D']\n",
            "C: ['A', 'B', 'E']\n",
            "D: ['B', 'E']\n",
            "E: ['C', 'D']\n",
            "\n",
            "BFS traversal:\n",
            "A B C D E \n",
            "DFS traversal:\n",
            "A B C E D \n",
            "\n",
            "BFS list dari A: ['A', 'B', 'C', 'D', 'E']\n",
            "Path dari A ke E: ['A', 'B', 'C', 'E']\n",
            "Apakah graf terhubung? True\n"
          ]
        }
      ]
    },
    {
      "cell_type": "markdown",
      "source": [
        "Deskripsi secara ringkas:\n",
        "Graf disusun dalam bentuk kamus.\n",
        "Fungsi BFS dan DFS menunjukkan node-node yang telah dijelajahi.\n",
        "BFS yang telah dimodifikasi untuk menghasilkan urutan kunjungan dalam bentuk daftar.\n",
        "find_path mencari suatu rute dari node awal ke node akhir dengan menggunakan metode DFS.\n",
        "is_connected memverifikasi apakah semua simpul saling terhubung.\n"
      ],
      "metadata": {
        "id": "hA1d4ZgHs-g-"
      }
    }
  ]
}