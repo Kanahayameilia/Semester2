{
  "nbformat": 4,
  "nbformat_minor": 0,
  "metadata": {
    "colab": {
      "provenance": []
    },
    "kernelspec": {
      "name": "python3",
      "display_name": "Python 3"
    },
    "language_info": {
      "name": "python"
    }
  },
  "cells": [
    {
      "cell_type": "code",
      "execution_count": null,
      "metadata": {
        "colab": {
          "base_uri": "https://localhost:8080/"
        },
        "id": "E4as0YvYo4UQ",
        "outputId": "603c800c-b4d9-44c5-9984-2092a10058bd"
      },
      "outputs": [
        {
          "output_type": "stream",
          "name": "stdout",
          "text": [
            "Masukan 2 digit terakhir NPM  anda: 21\n",
            "Elemen ditemukan pada indeks 4\n"
          ]
        }
      ],
      "source": [
        "#Implementasi Linear Search\n",
        "\n",
        "def linear_search(arr, target):\n",
        "  for i in range(len(arr)):\n",
        "    if arr[i] == target:\n",
        "      return i\n",
        "  return -1\n",
        "\n",
        "#Gantilah dengan angka acak dan NPM anda\n",
        "arr = [24, 20, 50, 60, 21, 23, 19, 49, 59, 22]\n",
        "target = int(input(\"Masukan 2 digit terakhir NPM  anda: \"))\n",
        "\n",
        "result = linear_search(arr, target)\n",
        "\n",
        "if result != -1:\n",
        "  print(\"Elemen ditemukan pada indeks\", result)\n",
        "else:\n",
        "  print(\"Elemen tidak ditemukan\")"
      ]
    },
    {
      "cell_type": "code",
      "source": [
        "#Implementasi binary6 search\n",
        "\n",
        "def binary_search(arr, target):\n",
        "  low = 0\n",
        "  high = len(arr) - 1\n",
        "\n",
        "  while low <= high:\n",
        "    mid = (low + high) // 2\n",
        "    if arr [mid] == target:\n",
        "      return mid\n",
        "    elif arr[mid] < target:\n",
        "      low = mid + 1\n",
        "    else:\n",
        "      high = mid - 1\n",
        "  return -1\n",
        "\n",
        "#Gantilah dengan angka terurut dan tanggal lahir anda (DDMM)\n",
        "arr = [1205, 1206, 1207, 1208, 1209, 1210, 1211, 1212]\n",
        "target = int(input(\"Masukan tanggal lahir anda (DDMM): \"))\n",
        "\n",
        "result = binary_search(arr, target)\n",
        "\n",
        "if result != -1:\n",
        "  print(\"Elemen ditemukan pada indeks\", result)\n",
        "else:\n",
        "  print(\"Elemen tidak ditemukan\")"
      ],
      "metadata": {
        "colab": {
          "base_uri": "https://localhost:8080/"
        },
        "id": "WElRv4UcsNSa",
        "outputId": "be483f21-5e5d-4f22-f23c-6cc4a3551e7d"
      },
      "execution_count": null,
      "outputs": [
        {
          "output_type": "stream",
          "name": "stdout",
          "text": [
            "Masukan tanggal lahir anda (DDMM): 1206\n",
            "Elemen ditemukan pada indeks 1\n"
          ]
        }
      ]
    },
    {
      "cell_type": "code",
      "source": [
        "#Implementasi Jump Search\n",
        "\n",
        "import math\n",
        "\n",
        "def jump_search(arr, target):\n",
        "  n = len(arr)\n",
        "  step = int(n ** 0.5)\n",
        "  prev = 0\n",
        "\n",
        "  while arr[min(step, n) - 1] < target:\n",
        "    prev = step\n",
        "    step += int(math.sqrt(n))\n",
        "    if prev >= n:\n",
        "      return -1\n",
        "\n",
        "  for i in range(prev, min(step, n)):\n",
        "    if arr[i] == target:\n",
        "      return i\n",
        "  return -1\n",
        "\n",
        "#Gantilah dengan daftar nama teman-teman anada dalam urutan alfabet\n",
        "arr = [\"Anaya\", \"Buna\", \"Caca\", \"Dani\", \"Emma\", \"Nuri\", \"Setyasih\"]\n",
        "target = input(\"Masukan nama anda: \")\n",
        "\n",
        "result = jump_search(arr, target)\n",
        "\n",
        "if result != -1:\n",
        "  print(\"Elemen ditemukan pada indeks\", result)\n",
        "else:\n",
        "  print(\"Elemen tidak ditemukan\")"
      ],
      "metadata": {
        "colab": {
          "base_uri": "https://localhost:8080/"
        },
        "id": "qRQTQwsVtIzD",
        "outputId": "71b00b04-bf26-4bc7-d670-af7b4d622c62"
      },
      "execution_count": null,
      "outputs": [
        {
          "output_type": "stream",
          "name": "stdout",
          "text": [
            "Masukan inisial nama anda: Anaya\n",
            "Elemen ditemukan pada indeks 0\n"
          ]
        }
      ]
    },
    {
      "cell_type": "code",
      "source": [
        "#Latihan / Tugas\n",
        "\n",
        "import random\n",
        "import math\n",
        "\n",
        "def linear_search(arr, target):\n",
        "    for i, num in enumerate(arr):\n",
        "        if num == target:\n",
        "            return i, i + 1\n",
        "    return -1, len(arr)\n",
        "\n",
        "def binary_search(arr, target):\n",
        "    left, right, comparisons = 0, len(arr) - 1, 0\n",
        "    while left <= right:\n",
        "        mid = (left + right) // 2\n",
        "        comparisons += 1\n",
        "        if arr[mid] == target:\n",
        "            return mid, comparisons\n",
        "        right = mid - 1 if arr[mid] > target else right\n",
        "        left = mid + 1 if arr[mid] < target else left\n",
        "    return -1, comparisons\n",
        "\n",
        "def jump_search(arr, target):\n",
        "    n, step = len(arr), int(math.sqrt(len(arr)))\n",
        "    prev, comparisons = 0, 0\n",
        "    while prev < n and arr[min(step, n) - 1] < target:\n",
        "        comparisons += 1\n",
        "        prev, step = step, step + int(math.sqrt(n))\n",
        "    for i in range(prev, min(step, n)):\n",
        "        comparisons += 1\n",
        "        if arr[i] == target:\n",
        "            return i, comparisons\n",
        "    return -1, comparisons\n",
        "\n",
        "# Generate and sort data\n",
        "data = sorted(random.sample(range(1, 1001), 100))\n",
        "target = data[len(data) // 2]\n",
        "\n",
        "# Perform searches\n",
        "lin_result, lin_comparisons = linear_search(data, target)\n",
        "bin_result, bin_comparisons = binary_search(data, target)\n",
        "jmp_result, jmp_comparisons = jump_search(data, target)\n",
        "\n",
        "# Display results\n",
        "print(f\"Target: {target}\")\n",
        "print(f\"Linear Search: Index {lin_result}, Comparisons: {lin_comparisons}\")\n",
        "print(f\"Binary Search: Index {bin_result}, Comparisons: {bin_comparisons}\")\n",
        "print(f\"Jump Search: Index {jmp_result}, Comparisons: {jmp_comparisons}\")\n"
      ],
      "metadata": {
        "id": "HH_tcDoLvIdk",
        "colab": {
          "base_uri": "https://localhost:8080/"
        },
        "outputId": "618abe38-627b-4f8f-80d7-a8c93c4fc5e3"
      },
      "execution_count": null,
      "outputs": [
        {
          "output_type": "stream",
          "name": "stdout",
          "text": [
            "Target: 633\n",
            "Linear Search: Index 50, Comparisons: 51\n",
            "Binary Search: Index 50, Comparisons: 6\n",
            "Jump Search: Index 50, Comparisons: 6\n"
          ]
        }
      ]
    },
    {
      "cell_type": "markdown",
      "source": [
        "1. Fungsi Search Linear (linear_search)\n",
        "\n",
        "  Linear Search adalah metode pencarian yang sederhana, di mana setiap elemen diperiksa satu per satu hingga menemukan nilai target atau mencapai akhir dari array.\n",
        "  - Fungsi ini menerima dua argumen, yaitu array `arr` dan nilai target `target`\n",
        "  - Dengan menggunakan loop `for`, fungsi ini menelusuri setiap elemen dalam array tersebut.\n",
        "  - Jika fungsi menemukan nilai target, maka akan mengembalikan indeks dari elemen tersebut beserta jumlah perbandingan (atau jumlah iterasi dalam loop).\n",
        "  - Namun, jika nilai target tidak ditemukan, fungsi akan mengembalikan -1 dan total jumlah elemen sebagai jumlah perbandingan.\n",
        "\n",
        "2. Fungsi Binary Search (binary_search)\n",
        "\n",
        "  Binary search merupakan algoritma pencarian yang lebih efisien untuk array yang sudah terurut. Prinsip dasar dari algoritma ini adalah dengan membagi array menjadi dua bagian dan membandingkan elemen di tengah dengan nilai target yang dicari.\n",
        "  - Prosesnya dimulai dengan menginisialisasi variabel `left` pada indeks awal array dan variabel `right` pada indeks akhir.\n",
        "  - Kemudian, kita akan menggunakan `while` `loop` selama `left` kurang dari atau sama dengan right`:\n",
        "    - Tentukan `mid` sebagai indeks tengah dari array.\n",
        "    - Jika nilai target sama dengan elemen pada `arr[mid]`, maka kembalikan indeks `mid` beserta jumlah perbandingan yang telah dilakukan.\n",
        "    - Jika nilai target lebih kecil dari `arr[mid]`, pencarian akan dilanjutkan pada bagian kiri array dengan mengubah nilai `right` menjadi `mid -\n",
        "    - Sebaliknya, jika nilai target lebih besar dari `arr[mid]`, pencarian akan dilanjutkan pada bagian kanan array dengan mengubah nilai `left menjadi `mid + 1`.\n",
        "  - Apabila setelah pencarian nilai target tidak ditemukan, maka kembalikan -1 dan jumlah perbandingan yang telah dilakukan.\n",
        "\n",
        "3. Fungsi Jump Search (pencarian lompat)   \n",
        "  adalah metode pencarian yang menawarkan kecepatan lebih dibandingkan dengan pencarian linear, namun tetap lebih sederhana daripada pencarian biner. Algoritma ini membagi array menjadi beberapa blok dan melakukan lompatan untuk mencari kemungkinan lokasi target.\n",
        "  - Ukuran lompatan ditentukan sebagai akar kuadrat dari panjang array (sqrt(n)), di mana n adalah jumlah elemen dalam array. - Proses lompatan dilanjutkan hingga menemukan blok yang mungkin mengandung target.\n",
        "  - Begitu blok tersebut ditemukan, pencarian linear dilakukan di dalam blok itu untuk menemukan target.\n",
        "  - Jika target berhasil ditemukan, algoritma akan mengembalikan indeksnya beserta jumlah perbandingan yang dilakukan.\n",
        "  - Namun, jika target tidak ditemukan, algoritma akan mengembalikan -1 dan jumlah perbandingan yang dilakukan.\n",
        "\n",
        "4.  Pembuatan Data dan Pencarian\n",
        "  ```\n",
        "  data = sorted(random.sample(range(1, 1001), 100))\n",
        "target = data[len(data) // 2]\n",
        "  ```\n",
        "  - `random. sample(range(1, 1001), 100)` menghasilkan 100 angka acak unik dari angka 1 hingga 1000.\n",
        "  - Selanjutnya, menggunakan `sorted(. . . )` untuk mengurutkan angka-angka tersebut, sehingga dapat digunakan dalam pencarian biner maupun pencarian lompatan.\n",
        "  - Terakhir, `target = data[len(data) // 2]` menetapkan nilai target sebagai elemen tengah dari array yang telah diurutkan.\n",
        "\n",
        "5. Menjalankan Ketiga Algoritma\n",
        "  ```\n",
        "  lin_result, lin_comparisons = linear_search(data, target)\n",
        "bin_result, bin_comparisons = binary_search(data, target)\n",
        "jmp_result, jmp_comparisons = jump_search(data, target)\n",
        "  ```\n",
        "  - Mencari suatu target dapat dilakukan dengan berbagai metode, yaitu Linear Search, Binary Search, dan Jump Search.\n",
        "  - Setiap algoritma ini akan mengembalikan indeks dari target yang ditemukan, serta jumlah perbandingan yang telah dilakukan selama proses pencarian.\n",
        "\n",
        "6. Menampilkan Hasil Pencarian\n",
        "  ```\n",
        "  print(f\"Target: {target}\")\n",
        "print(f\"Linear Search: Index {lin_result}, Comparisons: {lin_comparisons}\")\n",
        "print(f\"Binary Search: Index {bin_result}, Comparisons: {bin_comparisons}\")\n",
        "print(f\"Jump Search: Index {jmp_result}, Comparisons: {jmp_comparisons}\")\n",
        "  ```\n",
        "  - Menampilkan target yang dicari serta hasil pencarian dari setiap algoritma.\n",
        "  - Hal ini mencakup indeks hasil dan jumlah perbandingan yang telah dilakukan.\n",
        "\n",
        "Kesimpulan:\n",
        "  - Linier Search: Metode ini tergolong paling lambat karena memeriksa elemen satu per satu.\n",
        "  - Biner Search: Di sisi lain, metode ini sangat cepat karena membagi array pada setiap iterasi.\n",
        "  - Jump Search: Meskipun lebih cepat dibandingkan pencarian linier, biasanya masih lebih lambat daripada pencarian biner."
      ],
      "metadata": {
        "id": "qIKxfA2xTUKI"
      }
    },
    {
      "cell_type": "markdown",
      "source": [],
      "metadata": {
        "id": "mm8iMRlXcd0j"
      }
    }
  ]
}