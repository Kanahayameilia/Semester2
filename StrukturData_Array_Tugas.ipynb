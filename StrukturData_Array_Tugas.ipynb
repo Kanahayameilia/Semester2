{
  "nbformat": 4,
  "nbformat_minor": 0,
  "metadata": {
    "colab": {
      "provenance": []
    },
    "kernelspec": {
      "name": "python3",
      "display_name": "Python 3"
    },
    "language_info": {
      "name": "python"
    }
  },
  "cells": [
    {
      "cell_type": "code",
      "execution_count": null,
      "metadata": {
        "id": "vrvxbvLdKEI7"
      },
      "outputs": [],
      "source": [
        "import random\n",
        "\n",
        "# Input ukuran peta dari pengguna\n",
        "size = int(input(\"Masukkan ukuran peta yang diinginkan: \"))\n",
        "\n",
        "# Membuat peta dengan harta karun tersembunyi\n",
        "treasure_map = [\"_\" for _ in range(size)]\n",
        "\n",
        "# Menentukan lokasi harta karun secara acak\n",
        "treasure_index = random.randint(0, size - 1)\n",
        "treasure_map[treasure_index] = \"X\"  # Menyembunyikan harta karun di lokasi yang dipilih\n",
        "\n",
        "print(f\"\\nSelamat datang di Treasure Hunt! Peta memiliki {size} lokasi (0 hingga {size-1}).\")\n",
        "\n",
        "# Fungsi untuk memulai permainan\n",
        "def play_treasure_hunt():\n",
        "    print(\"\\nHarta karun telah disembunyikan! Sekarang giliran pemain menebak.\")\n",
        "    print(\"Cobalah menemukan harta karun dengan menebak indeks yang benar.\")\n",
        "\n",
        "    # Loop permainan\n",
        "    while True:\n",
        "        # Menampilkan peta tersembunyi kepada pemain\n",
        "        print(\"\\nPeta saat ini:\", [\"_\" for _ in range(size)])\n",
        "\n",
        "        try:\n",
        "            guess = int(input(f\"Masukkan indeks tebakanmu (0-{size-1}): \"))  # peta tersembunyi\n",
        "        except ValueError:\n",
        "            print(\"Masukkan angka yang valid!\")\n",
        "            continue\n",
        "\n",
        "        # Validasi input\n",
        "        if guess < 0 or guess >= size:\n",
        "            print(f\"Indeks tidak valid, pilih antara 0 hingga {size-1}.\")\n",
        "            continue\n",
        "\n",
        "        # Mengecek apakah tebakan benar\n",
        "        if treasure_map[guess] == \"X\":\n",
        "            print(f\"🎉 Selamat! Kamu menemukan harta karun di lokasi: {guess} 🎉\")\n",
        "            break\n",
        "        else:\n",
        "            print(\"❌ Tidak ada harta di lokasi ini. Coba lagi!\")\n",
        "\n",
        "    print(\"Terima kasih sudah bermain!\")\n",
        "\n",
        "# Jalankan permainan\n",
        "play_treasure_hunt()\n",
        "3"
      ]
    }
  ]
}