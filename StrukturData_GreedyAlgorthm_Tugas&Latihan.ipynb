{
  "nbformat": 4,
  "nbformat_minor": 0,
  "metadata": {
    "colab": {
      "provenance": []
    },
    "kernelspec": {
      "name": "python3",
      "display_name": "Python 3"
    },
    "language_info": {
      "name": "python"
    }
  },
  "cells": [
    {
      "cell_type": "code",
      "execution_count": 1,
      "metadata": {
        "colab": {
          "base_uri": "https://localhost:8080/"
        },
        "id": "kOj_AvWfRJ8-",
        "outputId": "79c1762b-3613-4039-d84f-fe59e306ed98"
      },
      "outputs": [
        {
          "output_type": "stream",
          "name": "stdout",
          "text": [
            "Koin yang digunakan: [25, 25, 5]\n"
          ]
        }
      ],
      "source": [
        "def coin_change_greedy (amount, coins):\n",
        "    coins.sort(reverse=True)\n",
        "    result = []\n",
        "    for coin in coins:\n",
        "        while amount >= coin:\n",
        "              amount -= coin\n",
        "              result.append(coin)\n",
        "    return result\n",
        "\n",
        "# Contoh penggunaan\n",
        "amount = 57\n",
        "coins = [25, 10, 5, 11]\n",
        "change = coin_change_greedy (amount, coins)\n",
        "print(\"Koin yang digunakan:\", change)\n"
      ]
    },
    {
      "cell_type": "code",
      "source": [
        "# Fungsi Fractional Knapsack\n",
        "def fractional_knapsack(items, capacity):\n",
        "    # Urutkan berdasarkan rasio nilai/berat secara menurun\n",
        "    items = sorted(items, key=lambda x: x[0]/x[1], reverse=True)\n",
        "\n",
        "    total_value = 0.0\n",
        "    for value, weight in items:\n",
        "        if capacity >= weight:\n",
        "            capacity -= weight\n",
        "            total_value += value\n",
        "        else:\n",
        "            total_value += value * (capacity / weight)\n",
        "            break  # karena hanya bisa ambil sebagian\n",
        "    return total_value\n",
        "\n",
        "# Contoh penggunaan\n",
        "items = [(60, 10), (100, 20), (120, 30)]  # (nilai, berat)\n",
        "capacity = 50\n",
        "max_value = fractional_knapsack(items, capacity)\n",
        "print(\"Nilai maksimum yang dapat dibawa:\", max_value)\n"
      ],
      "metadata": {
        "colab": {
          "base_uri": "https://localhost:8080/"
        },
        "id": "HQ2tpNWxafyr",
        "outputId": "882f0a2d-ccb9-41a9-be2d-bbc97c7d8437"
      },
      "execution_count": 6,
      "outputs": [
        {
          "output_type": "stream",
          "name": "stdout",
          "text": [
            "Nilai maksimum yang dapat dibawa: 240.0\n"
          ]
        }
      ]
    },
    {
      "cell_type": "code",
      "source": [
        "import heapq\n",
        "\n",
        "def prim_mst(graph, start):\n",
        "    visited = set()\n",
        "    min_heap = [(0, start)]\n",
        "    total_weight = 0\n",
        "\n",
        "    while min_heap:\n",
        "        weight, node = heapq.heappop(min_heap)\n",
        "        if node in visited:\n",
        "            continue\n",
        "        visited.add(node)\n",
        "        total_weight += weight\n",
        "        for neighbor, edge_weight in graph[node]:\n",
        "            if neighbor not in visited:\n",
        "                heapq.heappush(min_heap, (edge_weight, neighbor))\n",
        "    return total_weight\n",
        "\n",
        "# Representasi graf: adjacency list (graf tak berarah berbobot)\n",
        "graph = {\n",
        "    'A': [('B', 2), ('C', 3)],\n",
        "    'B': [('A', 2), ('C', 1), ('D', 1)],\n",
        "    'C': [('A', 3), ('B', 1), ('D', 4)],\n",
        "    'D': [('B', 1), ('C', 4)]\n",
        "}\n",
        "\n",
        "print(\"Total bobot MST (Prim):\", prim_mst(graph, 'A'))\n"
      ],
      "metadata": {
        "colab": {
          "base_uri": "https://localhost:8080/"
        },
        "id": "lqFuLHj6cYRn",
        "outputId": "435b0561-e4b2-4081-aa0d-6f683182577a"
      },
      "execution_count": 8,
      "outputs": [
        {
          "output_type": "stream",
          "name": "stdout",
          "text": [
            "Total bobot MST (Prim): 4\n"
          ]
        }
      ]
    },
    {
      "cell_type": "code",
      "source": [
        "def kruskal_mst(edges, n_nodes):\n",
        "    parent = {i: i for i in range(n_nodes)}\n",
        "\n",
        "    def find(x):\n",
        "        while parent[x] != x:\n",
        "            x = parent[x]\n",
        "        return x\n",
        "\n",
        "    def union(x, y):\n",
        "        root_x = find(x)\n",
        "        root_y = find(y)\n",
        "        if root_x != root_y:\n",
        "            parent[root_y] = root_x\n",
        "            return True\n",
        "        return False\n",
        "\n",
        "    edges.sort(key=lambda x: x[2])  # Urutkan berdasarkan bobot\n",
        "    total_weight = 0\n",
        "\n",
        "    for u, v, weight in edges:\n",
        "        if union(u, v):\n",
        "            total_weight += weight\n",
        "\n",
        "    return total_weight\n",
        "\n",
        "# edges: (node1, node2, weight)\n",
        "edges = [(0, 1, 2), (0, 2, 3), (1, 2, 1), (1, 3, 1), (2, 3, 4)]\n",
        "\n",
        "print(\"Total bobot MST (Kruskal):\", kruskal_mst(edges, 4))\n"
      ],
      "metadata": {
        "colab": {
          "base_uri": "https://localhost:8080/"
        },
        "id": "iiZTdzhVdk_a",
        "outputId": "a7bcfdd6-023e-4f49-988c-d97820592a7e"
      },
      "execution_count": 10,
      "outputs": [
        {
          "output_type": "stream",
          "name": "stdout",
          "text": [
            "Total bobot MST (Kruskal): 4\n"
          ]
        }
      ]
    }
  ]
}