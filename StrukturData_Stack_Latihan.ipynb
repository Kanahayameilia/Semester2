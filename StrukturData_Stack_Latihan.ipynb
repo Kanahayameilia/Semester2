{
  "nbformat": 4,
  "nbformat_minor": 0,
  "metadata": {
    "colab": {
      "provenance": []
    },
    "kernelspec": {
      "name": "python3",
      "display_name": "Python 3"
    },
    "language_info": {
      "name": "python"
    }
  },
  "cells": [
    {
      "cell_type": "code",
      "execution_count": 1,
      "metadata": {
        "colab": {
          "base_uri": "https://localhost:8080/"
        },
        "id": "XggildTszVbD",
        "outputId": "0d871720-eed5-44ec-d621-61d452fb1e52"
      },
      "outputs": [
        {
          "output_type": "stream",
          "name": "stdout",
          "text": [
            "[5]\n"
          ]
        }
      ],
      "source": [
        "#Operasi pada stack\n",
        "#push(x) menambahkan elemen ke stack\n",
        "\n",
        "class stack:\n",
        "  def __init__(self):\n",
        "    self.stack = []\n",
        "\n",
        "  def push(self, item):\n",
        "    self.stack.append(item)\n",
        "\n",
        "#contoh penggunaan\n",
        "s = stack()\n",
        "s.push(5)\n",
        "print(s.stack) #output : (5)"
      ]
    },
    {
      "cell_type": "code",
      "source": [
        "#pop() - Menghapus elemen dari stack\n",
        "\n",
        "class stack:\n",
        "  def __init__(self):\n",
        "    self.stack = []\n",
        "\n",
        "  def push(self, item): # Added the push method back to the class\n",
        "    self.stack.append(item)\n",
        "\n",
        "  def pop(self):\n",
        "    if len(self.stack) == 0:\n",
        "      return \"Stack Kosong\"\n",
        "    return self.stack.pop()\n",
        "\n",
        "#contoh penggunaan\n",
        "s = stack()\n",
        "s.push(5)\n",
        "s.push(10)\n",
        "print(s.pop()) #output : 10\n",
        "print(s.pop()) #output : 5 # Changed s.pop to s.pop() to call the function and get the desired output"
      ],
      "metadata": {
        "colab": {
          "base_uri": "https://localhost:8080/"
        },
        "id": "jtaQZ_Nh0hlL",
        "outputId": "197a4af9-ef4d-4149-99a5-0ba7a7eec0e1"
      },
      "execution_count": 2,
      "outputs": [
        {
          "output_type": "stream",
          "name": "stdout",
          "text": [
            "10\n",
            "5\n"
          ]
        }
      ]
    },
    {
      "cell_type": "code",
      "source": [
        "#Peek() =  melihat elemen teratas tanpa menghapusnya\n",
        "\n",
        "class stack:\n",
        "  def __init__(self):\n",
        "    self.stack = []\n",
        "\n",
        "  def push(self, item):  # Add the push method to the class\n",
        "    self.stack.append(item)\n",
        "\n",
        "  def peek(self):  # Changed Self to self\n",
        "    if len(self.stack) == 0:\n",
        "      return \"Stack Kosong\"\n",
        "    return self.stack[-1]\n",
        "\n",
        "#contoh penggunaan\n",
        "s = stack()\n",
        "s.push(5)\n",
        "s.push(10)\n",
        "print(s.peek()) #Output 10\n",
        "print(s.stack) #Output [5, 10]"
      ],
      "metadata": {
        "colab": {
          "base_uri": "https://localhost:8080/"
        },
        "id": "qnoRiUE81zdy",
        "outputId": "3e547e63-17f2-456a-b94a-07e949e83ebe"
      },
      "execution_count": 3,
      "outputs": [
        {
          "output_type": "stream",
          "name": "stdout",
          "text": [
            "10\n",
            "[5, 10]\n"
          ]
        }
      ]
    },
    {
      "cell_type": "code",
      "source": [
        "#isEsmpty()- Mengecek apakah stack kosong\n",
        "\n",
        "class stack:\n",
        "  def __init__(self):\n",
        "    self.stack = []\n",
        "\n",
        "  def push(self, item):\n",
        "    self.stack.append(item)\n",
        "\n",
        "  def isEmpty(self):\n",
        "    return len(self.stack) == 0\n",
        "\n",
        "#contoh penggunaan\n",
        "s = stack()\n",
        "print(s.isEmpty()) #output : True\n",
        "s.push(5)\n",
        "print(s.isEmpty()) #output : False"
      ],
      "metadata": {
        "colab": {
          "base_uri": "https://localhost:8080/"
        },
        "id": "QObhjq2G2mg7",
        "outputId": "a30d25a7-5187-485c-bf6b-d144d69169a4"
      },
      "execution_count": 4,
      "outputs": [
        {
          "output_type": "stream",
          "name": "stdout",
          "text": [
            "True\n",
            "False\n"
          ]
        }
      ]
    },
    {
      "cell_type": "code",
      "source": [
        "#Implemwntasi stack dengan list python - fitur undo (pop())\n",
        "\n",
        "class TextEditor:\n",
        "  def __init__(self):\n",
        "    self.history = []\n",
        "\n",
        "  def write(self, text):\n",
        "    self.history.append(text)\n",
        "\n",
        "  def undo(self):\n",
        "    if self.history:\n",
        "      return f\"Undo: Menghapus '{self.history.pop()}'\"\n",
        "    return \"Tidak ada yang bisa di-undo\"\n",
        "\n",
        "# Contoh Penggunaan\n",
        "editor = TextEditor()\n",
        "editor.write(\"Halo, ini teks pertama.\")\n",
        "editor.write(\"Ini teks kedua.\")\n",
        "editor.write(\"Ini teks ketiga.\")\n",
        "print(editor.undo())\n",
        "print(editor.undo())\n",
        "print(editor.undo())\n",
        "print(editor.undo())"
      ],
      "metadata": {
        "colab": {
          "base_uri": "https://localhost:8080/"
        },
        "id": "QpgGSLGalkxb",
        "outputId": "5c517898-62e3-49f1-9016-18228081aafd"
      },
      "execution_count": 7,
      "outputs": [
        {
          "output_type": "stream",
          "name": "stdout",
          "text": [
            "Undo: Menghapus 'Ini teks ketiga.'\n",
            "Undo: Menghapus 'Ini teks kedua.'\n",
            "Undo: Menghapus 'Halo, ini teks pertama.'\n",
            "Tidak ada yang bisa di-undo\n"
          ]
        }
      ]
    },
    {
      "cell_type": "code",
      "source": [
        "class Calculator:\n",
        "    def __init__(self, value):\n",
        "        self.value = value\n",
        "        self.history = []\n",
        "\n",
        "    def operate(self, operator, number):\n",
        "        self.history.append(self.value)\n",
        "        if operator == '+':\n",
        "            self.value += number\n",
        "        elif operator == '-':\n",
        "            self.value -= number\n",
        "        elif operator == '*':\n",
        "            self.value *= number\n",
        "        elif operator == '/' and number != 0:\n",
        "            self.value /= number\n",
        "        else:\n",
        "            print(\"Operasi tidak valid\")\n",
        "\n",
        "    def undo(self):\n",
        "        if self.history:\n",
        "            self.value = self.history.pop()\n",
        "        else:\n",
        "            print(\"Tidak ada operasi yang bisa di-undo.\")\n",
        "\n",
        "    def get_value(self):\n",
        "        return self.value\n",
        "\n",
        "# Contoh penggunaan\n",
        "kalkulator = Calculator(21)\n",
        "kalkulator.operate('+', 10)\n",
        "kalkulator.operate('*', 2)\n",
        "kalkulator.operate('-', 5)\n",
        "print(\"Hasil:\", kalkulator.get_value())\n",
        "kalkulator.undo()\n",
        "print(\"Undo 1:\", kalkulator.get_value())\n",
        "kalkulator.undo()\n",
        "print(\"Undo 2:\", kalkulator.get_value())\n",
        "kalkulator.undo()\n",
        "print(\"Undo 3:\", kalkulator.get_value())\n",
        "kalkulator.undo()\n",
        "print(\"Undo 4:\", kalkulator.get_value())"
      ],
      "metadata": {
        "colab": {
          "base_uri": "https://localhost:8080/"
        },
        "id": "-RzmJqA5m6US",
        "outputId": "867d5798-0dd4-444d-9cc4-42b6509f23ef"
      },
      "execution_count": 13,
      "outputs": [
        {
          "output_type": "stream",
          "name": "stdout",
          "text": [
            "Hasil: 57\n",
            "Undo 1: 62\n",
            "Undo 2: 31\n",
            "Undo 3: 21\n",
            "Tidak ada operasi yang bisa di-undo.\n",
            "Undo 4: 21\n"
          ]
        }
      ]
    },
    {
      "cell_type": "markdown",
      "source": [
        "Berikut adalah penjelasan sederhana mengenai kode diatas:\n",
        "\n",
        "class Calculator\n",
        "class ini berfungsi untuk menyimpan nilai awal serta riwayat perubahan yang memungkinkan kita untuk melakukan undo.\n",
        "\n",
        "Metode operate(operator, number)\n",
        "Metode ini digunakan untuk melakukan operasi matematika, seperti penjumlahan (+), pengurangan (-), perkalian (*), dan pembagian (/). Sebelum melakukan perubahan pada nilai, metode ini akan menyimpan nilai sebelumnya sehingga kita bisa menggunakannya untuk undo jika diperlukan.\n",
        "\n",
        "Metode undo()\n",
        "Metode ini mengembalikan nilai ke kondisi sebelum operasi terakhir dilakukan, memungkinkan kita untuk membatalkan tindakan sebelumnya.\n",
        "\n",
        "Contoh Penggunaan\n",
        "Misalkan kita mulai dengan angka 25. Kemudian kita bisa menambah 10, mengalikan dengan 2, dan mengurangi 5. Setiap kali metode undo dipanggil, nilai akan kembali satu langkah ke belakang sesuai dengan perubahan yang telah dilakukan sebelumnya."
      ],
      "metadata": {
        "id": "LbJuieuLn0HI"
      }
    },
    {
      "cell_type": "code",
      "source": [
        "#Implementasi Stack dengan collections.deque – Navigasi History Browser (push())\n",
        "\n",
        "from collections import deque\n",
        "\n",
        "class BrowserHistory:\n",
        "  def __init__(self):\n",
        "    self.history = deque()\n",
        "\n",
        "  def visit(self, url):\n",
        "    self.history.append(url)\n",
        "    print(f\"Mengunjungi: {url}\")\n",
        "\n",
        "  def back(self):\n",
        "      if self.history:\n",
        "        print(f\"Kembali ke: {self.history.pop()}\")\n",
        "      else:\n",
        "        print(\"Tidak ada riwayat!\")\n",
        "\n",
        "# Contoh Penggunaan\n",
        "browser = BrowserHistory()\n",
        "browser.visit(\"google.com\")\n",
        "browser.visit(\"youtube.com\")\n",
        "browser.visit(\"github.com\")\n",
        "\n",
        "browser.back()\n",
        "browser.back()\n",
        "browser.back()\n",
        "browser.back()"
      ],
      "metadata": {
        "colab": {
          "base_uri": "https://localhost:8080/"
        },
        "id": "U9ld1KYSn-kK",
        "outputId": "e32adc94-ab0b-47c3-b917-cd0cbf271fc9"
      },
      "execution_count": 11,
      "outputs": [
        {
          "output_type": "stream",
          "name": "stdout",
          "text": [
            "Mengunjungi: google.com\n",
            "Mengunjungi: youtube.com\n",
            "Mengunjungi: github.com\n",
            "Kembali ke: github.com\n",
            "Kembali ke: youtube.com\n",
            "Kembali ke: google.com\n",
            "Tidak ada riwayat!\n"
          ]
        }
      ]
    },
    {
      "cell_type": "code",
      "source": [
        "#Latihan 2\n",
        "\n",
        "from collections import deque\n",
        "\n",
        "class MobileAppHistory:\n",
        "    def __init__(self):\n",
        "        self.history = deque()\n",
        "\n",
        "    def visit(self, feature):\n",
        "        self.history.append(feature)\n",
        "        print(f\"Mengunjungi: {feature}\")\n",
        "\n",
        "    def back(self):\n",
        "        if self.history:\n",
        "            self.history.pop()\n",
        "            print(f\"Kembali ke: {self.history[-1] if self.history else 'Tidak ada riwayat!'}\")\n",
        "        else:\n",
        "            print(\"Tidak ada riwayat!\")\n",
        "\n",
        "# Inisialisasi nama fitur\n",
        "bulan = \"M\"  # M untuk Mei\n",
        "npm = \"21\"\n",
        "\n",
        "# Contoh Penggunaan\n",
        "app = MobileAppHistory()\n",
        "for i in range(1, 4):\n",
        "    app.visit(f\"{bulan}{npm}-{i}\")\n",
        "\n",
        "app.back()\n",
        "app.back()\n",
        "app.back()"
      ],
      "metadata": {
        "colab": {
          "base_uri": "https://localhost:8080/"
        },
        "id": "zw19Qlk3olwx",
        "outputId": "48a53283-a2c6-4316-bc84-95d83a3dad76"
      },
      "execution_count": 16,
      "outputs": [
        {
          "output_type": "stream",
          "name": "stdout",
          "text": [
            "Mengunjungi: M21-1\n",
            "Mengunjungi: M21-2\n",
            "Mengunjungi: M21-3\n",
            "Kembali ke: M21-2\n",
            "Kembali ke: M21-1\n",
            "Kembali ke: Tidak ada riwayat!\n"
          ]
        }
      ]
    },
    {
      "cell_type": "markdown",
      "source": [
        "Kode ini mengimplementasikan sistem navigasi pada aplikasi mobile dengan menggunakan konsep Stack. Berikut adalah penjelasannya :\n",
        "\n",
        "Kita menggunakan deque sebagai struktur data untuk menyimpan riwayat fitur yang telah dikunjungi, mirip dengan tumpukan (Stack).\n",
        "\n",
        "Pada class MobileAppHistory, terdapat dua metode penting:\n",
        "  * visit(feature): Metode ini digunakan untuk menambahkan fitur ke dalam riwayat kunjungan dan mencetak informasi bahwa fitur tersebut telah dikunjungi.\n",
        "  * back(): Metode ini berfungsi untuk menghapus fitur terakhir yang dikunjungi dan menampilkan fitur sebelumnya. Jika tidak ada riwayat yang tersisa, sistem akan menampilkan pesan \"Tidak ada riwayat! \".\n",
        "\n",
        "Dalam penamaan fitur, nama fitur terdiri dari huruf pertama bulan lahir (misalnya, 'M' untuk Mei) diikuti oleh dua digit terakhir dari NPM (misalnya, '21'). Setiap fitur kemudian diberi nomor urut (contoh: M21-1, M21-2, M21-3).\n",
        "\n",
        "Contoh penggunaan dari sistem ini adalah dengan mengunjungi tiga fitur melalui loop yang disediakan. Setelah itu, tombol \"Back\" dapat ditekan tiga kali untuk kembali ke fitur sebelumnya atau untuk memberi tahu bahwa riwayat telah habis."
      ],
      "metadata": {
        "id": "yOS0my5ooKpR"
      }
    },
    {
      "cell_type": "code",
      "source": [
        "#. Implementasi Stack dengan queue.LifoQueue – Sistem Pencadangan File (peek())\n",
        "\n",
        "from queue import LifoQueue\n",
        "\n",
        "class BackupSystem:\n",
        "  def __init__(self):\n",
        "    self.backups = LifoQueue()\n",
        "\n",
        "  def backup(self, version):\n",
        "    self.backups.put(version)\n",
        "\n",
        "  def latest_backup(self):\n",
        "    if not self.backups.empty():\n",
        "      return f\"Versi terbaru: {self.backups.queue[-1]}\"\n",
        "    return \"Tidak ada cadangan!\"\n",
        "\n",
        "# Contoh Penggunaan\n",
        "backup_system = BackupSystem()\n",
        "backup_system.backup(\"Backup_1\")\n",
        "backup_system.backup(\"Backup_2\")\n",
        "backup_system.backup(\"Backup_3\")\n",
        "\n",
        "print(backup_system.latest_backup())"
      ],
      "metadata": {
        "colab": {
          "base_uri": "https://localhost:8080/"
        },
        "id": "N8i26-hVrCA6",
        "outputId": "8fe4c206-fbad-4b8f-8bc5-9e40424aaeb3"
      },
      "execution_count": 17,
      "outputs": [
        {
          "output_type": "stream",
          "name": "stdout",
          "text": [
            "Versi terbaru: Backup_3\n"
          ]
        }
      ]
    },
    {
      "cell_type": "code",
      "source": [
        "#Latihan3\n",
        "\n",
        "from queue import LifoQueue\n",
        "\n",
        "class EmailDraftSystem:\n",
        "    def __init__(self):\n",
        "        self.drafts = LifoQueue()\n",
        "\n",
        "    def save_draft(self, recipient, content):\n",
        "        self.drafts.put({\"subject\": \"an21\", \"recipient\": recipient, \"content\": content})\n",
        "\n",
        "    def view_last_draft(self):\n",
        "        return self.drafts.queue[-1] if not self.drafts.empty() else \"Tidak ada draft!\"\n",
        "\n",
        "# Contoh Penggunaan\n",
        "email_system = EmailDraftSystem()\n",
        "email_system.save_draft(\"user1@example.com\", \"Halo, ini draft pertama.\")\n",
        "email_system.save_draft(\"user2@example.com\", \"Ini draft kedua.\")\n",
        "email_system.save_draft(\"user3@example.com\", \"Ini draft ketiga.\")\n",
        "\n",
        "print(email_system.view_last_draft())"
      ],
      "metadata": {
        "colab": {
          "base_uri": "https://localhost:8080/"
        },
        "id": "Y-AiUsjHr3ir",
        "outputId": "298431a6-fa16-478c-ee0d-401c281c1e98"
      },
      "execution_count": 19,
      "outputs": [
        {
          "output_type": "stream",
          "name": "stdout",
          "text": [
            "{'subject': 'an21', 'recipient': 'user3@example.com', 'content': 'Ini draft ketiga.'}\n"
          ]
        }
      ]
    },
    {
      "cell_type": "markdown",
      "source": [
        "Kode ini untuk membuat sistem penyimpanan draft email menggunakan struktur Stack dengan LifoQueue. Berikut ini adalah penjelasan:\n",
        "\n",
        "Menggunakan LifoQueue\n",
        "Stack beroperasi berdasarkan prinsip LIFO (Last In, First Out), di mana draft email terbaru akan disimpan di bagian atas dan akan diakses terlebih dahulu.\n",
        "\n",
        "class EmailDraftSystem\n",
        "  *  ```__init__()``` → Menginisialisasi Stack untuk menyimpan draft.\n",
        "  *  ```save_draft(recipient, content)``` → Menyimpan draft email dengan subjek tetap \"an21\".\n",
        "  * ```view_last_draft()``` → Menampilkan draft terakhir yang tersimpan tanpa menghapusnya. Jika stack kosong, akan ditampilkan pesan \"Tidak ada draft! \".\n",
        "\n",
        "Contoh Penggunaan\n",
        "Dalam contoh ini, kita akan menyimpan tiga draft email dan menampilkan draft terakhir yang telah tersimpan."
      ],
      "metadata": {
        "id": "p7m73-C3uNk_"
      }
    },
    {
      "cell_type": "code",
      "source": [
        "#Implementasi Stack dengan OOP – Manajemen Antrian Pelanggan (isEmpty())\n",
        "\n",
        "class CustomerService:\n",
        "  def __init__(self):\n",
        "    self.tickets = []\n",
        "\n",
        "  def add_ticket(self, ticket):\n",
        "    self.tickets.append(ticket)\n",
        "\n",
        "  def process_ticket(self):\n",
        "    if not self.is_empty():\n",
        "      return f\"Memproses tiket: {self.tickets.pop()}\"\n",
        "    return \"Tidak ada tiket yang harus diproses.\"\n",
        "\n",
        "  def is_empty(self):\n",
        "    return len(self.tickets) == 0\n",
        "\n",
        "# Contoh Penggunaan\n",
        "service = CustomerService()\n",
        "service.add_ticket(\"Tiket 001\")\n",
        "service.add_ticket(\"Tiket 002\")\n",
        "\n",
        "print(service.process_ticket())\n",
        "print(service.is_empty())"
      ],
      "metadata": {
        "colab": {
          "base_uri": "https://localhost:8080/"
        },
        "id": "p7Q01K3kulVl",
        "outputId": "a1c566db-4fab-4f8e-9dd1-e3539c9aab82"
      },
      "execution_count": 20,
      "outputs": [
        {
          "output_type": "stream",
          "name": "stdout",
          "text": [
            "Memproses tiket: Tiket 002\n",
            "False\n"
          ]
        }
      ]
    },
    {
      "cell_type": "code",
      "source": [
        "#Latihan 4\n",
        "\n",
        "class CinemaQueue:\n",
        "    def __init__(self, film_name):\n",
        "        self.film_name = film_name\n",
        "        self.tickets = []\n",
        "\n",
        "    def add_ticket(self, customer_name):\n",
        "        self.tickets.append(f\"{self.film_name} - Tiket {len(self.tickets) + 1} untuk {customer_name}\")\n",
        "\n",
        "    def process_ticket(self):\n",
        "        print(self.tickets.pop() if self.tickets else \"Tidak ada tiket yang harus diproses.\")\n",
        "\n",
        "    def show_tickets(self):\n",
        "        print(\"\\n\".join(reversed(self.tickets)) if self.tickets else \"Tidak ada tiket dalam antrean.\")\n",
        "\n",
        "# Inisialisasi dan pembelian tiket\n",
        "cinema = CinemaQueue(\"M21\")\n",
        "for name in [\"Anaya\", \"Budi\", \"Citra\"]:\n",
        "    cinema.add_ticket(name)\n",
        "\n",
        "# Menampilkan dan memproses tiket\n",
        "cinema.show_tickets()\n",
        "cinema.process_ticket()\n",
        "cinema.process_ticket()\n",
        "cinema.show_tickets()"
      ],
      "metadata": {
        "colab": {
          "base_uri": "https://localhost:8080/"
        },
        "id": "8V229v2vvGvz",
        "outputId": "be55ef9b-29c6-4023-e621-5ec3095ce1a6"
      },
      "execution_count": 22,
      "outputs": [
        {
          "output_type": "stream",
          "name": "stdout",
          "text": [
            "M21 - Tiket 3 untuk Citra\n",
            "M21 - Tiket 2 untuk Budi\n",
            "M21 - Tiket 1 untuk Anaya\n",
            "M21 - Tiket 3 untuk Citra\n",
            "M21 - Tiket 2 untuk Budi\n",
            "M21 - Tiket 1 untuk Anaya\n"
          ]
        }
      ]
    },
    {
      "cell_type": "markdown",
      "source": [
        "Kode ini mengimplementasikan sistem antrean tiket bioskop dengan menggunakan struktur data Stack (LIFO - Last In, First Out). Berikut adalah cara kerjanya:\n",
        "\n",
        "1. Pertama, buat objek CinemaQueue dengan menyertakan nama film (misalnya: \"M21\").\n",
        "2. Ketika pelanggan membeli tiket, tiket tersebut akan ditambahkan ke dalam daftar antrean.\n",
        "3. Selanjutnya, tampilkan daftar tiket yang saat ini ada dalam antrean.\n",
        "4. Proses tiket dengan menghapus tiket yang terakhir masuk ke antrean.\n",
        "5. Akhirnya, tampilkan antrean tiket setelah beberapa tiket diproses."
      ],
      "metadata": {
        "id": "ZSQJ82UcxEKm"
      }
    }
  ]
}