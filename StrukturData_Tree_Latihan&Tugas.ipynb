{
  "nbformat": 4,
  "nbformat_minor": 0,
  "metadata": {
    "colab": {
      "provenance": []
    },
    "kernelspec": {
      "name": "python3",
      "display_name": "Python 3"
    },
    "language_info": {
      "name": "python"
    }
  },
  "cells": [
    {
      "cell_type": "markdown",
      "source": [
        "Struktur Data Tree\n",
        "\n",
        "Struktur data pohon, atau tree, merupakan sebuah struktur data hierarkis yang terdiri dari node yang saling terhubung melalui edge. Struktur ini mirip dengan pohon yang ada di alam, di mana node akar berfungsi sebagai titik awal dan node-node lainnya yang terhubung berperan sebagai cabang dan daun. Setiap node, kecuali node akar, memiliki satu node induk, dan setiap node tersebut dapat memiliki sejumlah node anak.\n",
        "\n",
        "Elemen Utama dalam Struktur Data Tree:\n",
        "\n",
        "1. Simpul (Node): Merupakan elemen dasar dari Tree yang berfungsi untuk menyimpan data.\n",
        "2. Tepi (Edge): Adalah garis yang menghubungkan dua simpul, mencerminkan hubungan hierarkis antara keduanya.\n",
        "3. Akar (Root): Merupakan simpul teratas dalam Tree yang tidak memiliki simpul induk.\n",
        "4. Simpul Induk (Parent Node): Adalah simpul yang memiliki satu atau lebih simpul anak.\n",
        "5. Simpul Anak (Child Node): Merupakan simpul yang terhubung dengan simpul induk.\n",
        "6. Simpul Daun (Leaf Node): Adalah simpul yang tidak memiliki simpul anak.\n",
        "\n",
        "Jenis-jenis Tree:\n",
        "\n",
        "- Pohon biner\n",
        "  adalah suatu struktur data non-linear yang menggambarkan hubungan hierarkis antara elemen-elemen, di mana setiap simpul (node) memiliki maksimal dua anak, yaitu anak kiri dan anak kanan. Struktur ini sering digunakan untuk merepresentasikan data yang memiliki struktur hierarkis, seperti pohon keluarga atau sistem berkas.\n",
        "  Binary tree memiliki beberapa variasi,seperti:\n",
        "  - full binary tree\n",
        "  - complate binary  tree\n",
        "  - perfect  binary tree\n",
        "  - skewed binary tree\n",
        "\n",
        "  cara kerja binary tree dimulia dari root, menyebar ke kiri kanan secara rekrusif\n",
        "  - preorder - melihat tree (root->left->right)\n",
        "  - inorder - mengurutkan tree (left->root->right)\n",
        "  - postorder - mengisi? dari bawah ke atas (left->right->root)\n",
        "\n",
        "  Kelebihan kekurangan binart tree\n",
        "\n",
        "  KELEBIHAN\n",
        "  - Kelebihan Pohon Biner:\n",
        "\n",
        "  1. Sederhana dan Mudah Dipahami:\n",
        "\n",
        "  2. Efisiensi Pencarian pada Pohon Seimbang:\n",
        "\n",
        "  3. Mewakili Hubungan Antar Data:\n",
        "\n",
        "  4. Hemat Memori:\n",
        "\n",
        "  KEKURANGAN\n",
        "  1. Tidak cocok untuk data yang memiliki dua amak per node\n",
        "  2. Tidak menjamin efisiensi\n",
        "  3. Perlu menyeimbangkan ulang\n",
        "\n",
        "- Binary Search Tree\n",
        "  Binary Search Tree (BST) merupakan jenis khusus dari pohon biner yang memiliki ketentuan.\n",
        "Penempatan nilai: setiap nilai di anak kiri harus lebih kecil daripada nilai di node induk, dan seluruh nilai di anak kanan harus lebih besar.\n",
        "Nilai di sebelah kanan anak harus lebih tinggi. Ketentuan ini membangun sistem yang tertib dan efektif.\n",
        "untuk kegiatan mencari, menambahkan, dan menghapus data.\n",
        "Terminologi yang digunakan dalam BST pada hakikatnya sama dengan istilah pada pohon biner, tetapi\n",
        "Fokus utamanya adalah pada tata urutan nilai. Setiap kali informasi baru akan ditambahkan,\n",
        "Perbandingan dilakukan secara berurutan mulai dari akar, menuju anak sebelah kiri atau kanan, hingga\n",
        "mencari posisi yang tepat. Proses pencarian mengikuti pola yang serupa: data yang dicari.\n",
        "Dengan melakukan perbandingan dengan node yang sedang dianalisis, kemudian melanjutkan gerakan ke arah kiri atau kanan sesuai dengan hasil perbandingan tersebut.\n",
        "hasil evaluasi.\n",
        "Sebagai perbandingan, BST serupa dengan buku telepon atau ensiklopedia. Ketika kita melakukan pencarian suatu\n",
        "Nama, kita tidak membaca dari awal, tetapi langsung menuju ke bagian tengah, kemudian\n",
        "Menyempitkan pencarian ke arah atas atau bawah. Dalam Pohon Pencarian Biner (BST), kami juga menerapkan prinsip\n",
        "Melakukan pencarian berdasarkan petunjuk, sehingga tidak perlu memeriksa segala hal.\n",
        "elemen secara berurutan.\n",
        "Cara kerja BST sangat ditentukan oleh urutan input data yang dimasukkan ke dalamnya.\n",
        "Jika elemen dimasukkan secara acak dan seimbang, maka pohon pencarian biner (BST) dapat memberikan waktu pencarian rata-rata O(log n). Namun, jika data dimasukkan dengan urutan yang meningkat atau menurun, maka susunan\n",
        "Pohon akan menyerupai daftar terhubung dan kinerjanya akan menurun menjadi O(n).\n",
        "- Keunggulan BST:\n",
        "Operasi untuk mencari, menyisipkan, dan menghapus dapat dilaksanakan dengan efisien melalui\n",
        "Waktu yang dibutuhkan rata-rata adalah O(log n).\n",
        "Struktur alami dari BST memungkinkan penelusuran inorder menghasilkan data yang teratur.\n",
        "Sangat sesuai untuk digunakan dalam aplikasi yang memerlukan kecepatan pencarian dan pengurutan.\n",
        "seperti sistem pengindeksan basis data, fitur penyelesaian otomatis, dan kompiler.\n",
        "- Kekurangan dari BST:\n",
        "BST tidak memastikan keseimbangan; jika data tidak distribusi merata, kinerjanya dapat menurun.\n",
        "Tindakan ini dilakukan dengan cara yang sangat cepat.\n",
        "Diperlukan algoritma penyeimbang tambahan, seperti AVL atau Pohon Merah-Hitam, untuk meningkatkan kinerja.\n",
        "tetap maksimal.\n",
        "Penghapusan sebuah node dalam Pohon Pencarian Biner (BST) lebih sulit dibandingkan dengan proses penyisipan atau pencarian.\n",
        "Khususnya apabila simpul memiliki dua cabang.\n",
        "\n",
        "Penelusuran pada Struktur Pohon\n",
        "Penelusuran pada pohon adalah kegiatan untuk mengunjungi setiap simpul dalam bangunan pohon.\n",
        "Dengan cara yang teratur. Tujuan dari traversal adalah untuk membaca, mengolah, atau memperlihatkan isi.\n",
        "Pohon mengikuti urutan yang tertentu. Berbeda dengan array atau linked list yang dapat diakses secara langsung.\n",
        "Dengan menggunakan indeks, akses terhadap node dalam pohon harus dilakukan melalui pencarian yang mengacu pada hubungan antara parent dan child.\n",
        "Ada tiga cara utama untuk menjelajahi Binary Tree dan BST:\n",
        "1. Traversal Pra-Pesan (Akar → Kiri → Kanan)\n",
        "Dalam metode ini, proses dimulai dari simpul akar terlebih dahulu, kemudian\n",
        "melanjutkan ke anak yang sebelah kiri dan akhirnya ke anak yang sebelah kanan. Traversal preorder banyak bisa dilakukan.\n",
        "Digunakan untuk membuat salinan pohon atau merekonstruksi pohon dari ekspresi prefix.\n",
        "2. Penelusuran Inorder (Kiri → Akar → Kanan)\n",
        "Traversi inorder adalah cara yang paling sering digunakan pada Pohon Pencarian Biner (BST) karena akan\n",
        "menghasilkan rangkaian nilai dari yang terendah hingga yang tertinggi. Proses ini dimulai dengan mencari anak.\n",
        "Pertama, proses anak kiri, kemudian proses node induk, dan terakhir, proses anak kanan. Metode ini kerap kali\n",
        "Digunakan saat kita ingin mencetak data dari BST secara berurutan.\n",
        "3. Penjelajahan Postorder (Kiri → Kanan → Akar)\n",
        "Traversal ini terlebih dahulu memproses seluruh subtree, kemudian dilanjutkan dengan node.\n",
        "Induknya. Ini bermanfaat dalam situasi penghapusan struktur pohon dan penilaian ekspresi.\n",
        "Postfix, dan ketika ingin menyelesaikan semua ketergantungan sebelum memproses akar-nya.\n",
        "Agar pemahaman lebih mudah, kita dapat menggunakan analogi traversal dengan mengibaratkan saat kita\n",
        "mengakses hunian dengan beberapa tingkat. Dalam preorder, kita merekam informasi segera setelah diterima.\n",
        "Rumah (akar) sebelum mengeksplorasi bagian kiri dan kanan. Dalam traversing inorder, kita menjelajahi bagian sebelah kiri.\n",
        "Pertama, catat informasi penting, kemudian lanjutkan ke bagian kanan. Sementara itu, dalam postorder, kita\n",
        "Telusuri semua area rumah terlebih dahulu, kemudian catat setelah keluar dari rumah.\n",
        "Traversal ini umumnya diterapkan dengan metode rekursif, tetapi juga dapat dilaksanakan secara iteratif.\n",
        "Proses yang bersifat iteratif dengan memanfaatkan struktur data seperti tumpukan. Dalam pelaksanaannya, pemilihan jenis penelusuran\n",
        "Bergantung pada tujuan tertentu, seperti menampilkan data yang telah diurutkan atau mengevaluasi suatu ekspresi,\n",
        "atau menghapus node satu per satu.\n",
        "\n",
        "\n",
        "\n"
      ],
      "metadata": {
        "id": "5KCQ4TPnLt_M"
      }
    },
    {
      "cell_type": "markdown",
      "source": [
        "Langkah pertama adalah membentuk pohon dengan struktur dasar Node, kemudian menyusun pohon tersebut.\n",
        "Secara manual tanpa mengikuti aturan BST. Silakan coba kode berikut dan perhatikan struktur pohonnya.\n",
        "yang dihasilkan:\n"
      ],
      "metadata": {
        "id": "wjbYyPoZHOvn"
      }
    },
    {
      "cell_type": "code",
      "source": [
        "#binary tree manual\n",
        "\n",
        "class Node:\n",
        "  def __init__(self, data):\n",
        "    self.left = None\n",
        "    self.right = None\n",
        "    self.data = data\n",
        "\n",
        "#Membuat Tree secara normal\n",
        "root = Node(1)\n",
        "root.left = Node(2)\n",
        "root.right = Node(3)\n",
        "root.left.left = Node(4)\n",
        "root.left.right = Node(5)\n",
        "\n",
        "#Fungsi inorder traversal\n",
        "def inorder(root):\n",
        "  if root:\n",
        "    inorder(root.left)\n",
        "    print(root.data, end=' ')\n",
        "    inorder(root.right)\n",
        "\n",
        "print('Hasil inorder traversal of binary tree is')\n",
        "inorder(root)"
      ],
      "metadata": {
        "colab": {
          "base_uri": "https://localhost:8080/"
        },
        "id": "YnhZKdwfT6n1",
        "outputId": "7e323a78-54f3-4ef1-a993-ad871c16a3b7"
      },
      "execution_count": null,
      "outputs": [
        {
          "output_type": "stream",
          "name": "stdout",
          "text": [
            "Hasil inorder traversal of binary tree is\n",
            "4 2 5 1 3 "
          ]
        }
      ]
    },
    {
      "cell_type": "markdown",
      "source": [
        "Kode ini secara manual membangun sebuah pohon biner. Kelas Node menyimpan data dan\n",
        "Penunjuk ke sisi kiri dan kanan. Kami menetapkan node root sebagai dasar dari pohon, kemudian\n",
        "menyebutkan anak-anaknya secara jelas. Fungsi inorder() berfungsi untuk\n",
        "Mengunjungi pohon mulai dari simpul paling kiri, kemudian menuju ke induknya, dan terakhir ke anak di sebelah kanan. Tolong keluaran dari\n",
        "Fungsi ini akan menampilkan urutan node sesuai dengan struktur yang ada.\n"
      ],
      "metadata": {
        "id": "J7k-qiMWHIYQ"
      }
    },
    {
      "cell_type": "markdown",
      "source": [
        "Saat ini kita akan membuat pohon secara otomatis mengikuti aturan BST, di mana\n",
        "Data yang lebih kecil dari nilai root akan ditempatkan di sisi kiri, sedangkan data yang lebih besar akan diletakkan di sisi kanan.\n"
      ],
      "metadata": {
        "id": "UHSC4dhpH0g2"
      }
    },
    {
      "cell_type": "code",
      "source": [
        "# Binary Search Tree\n",
        "\n",
        "class Node:\n",
        "    def __init__(self, data):\n",
        "        self.data = data\n",
        "        self.left = None\n",
        "        self.right = None\n",
        "\n",
        "class BinarySearchTree:\n",
        "    def __init__(self):\n",
        "        self.root = None\n",
        "\n",
        "    def insert(self, root, data):\n",
        "        if root is None:\n",
        "            return Node(data)\n",
        "        if data < root.data:\n",
        "            root.left = self.insert(root.left, data)\n",
        "        else:\n",
        "            root.right = self.insert(root.right, data)\n",
        "        return root\n",
        "\n",
        "bst = BinarySearchTree()\n",
        "root = None\n",
        "data_list = [50, 30, 70, 20, 40, 60, 80]\n",
        "for value in data_list:\n",
        "    root = bst.insert(root, value)"
      ],
      "metadata": {
        "id": "OGiMJNfDVHHA"
      },
      "execution_count": 4,
      "outputs": []
    },
    {
      "cell_type": "markdown",
      "source": [
        "Bagian ini memperkenalkan kelas BinarySearchTree serta fungsi insert() yang\n",
        "Menyisipkan informasi sesuai dengan kaidah BST. Apabila node tidak ada, maka akan dibuat node baru\n",
        "Data yang memiliki nilai lebih rendah dari nilai induk akan ditempatkan di anak kiri, sedangkan data yang lebih tinggi akan diletakkan di anak kanan.\n",
        "kanan. Daftar data_list digunakan untuk menguji cara kerja fungsi penyisipan, dan pohon akan\n",
        "Terbentuk dengan sendirinya tanpa memerlukan pengaturan secara manual. Hasil akhirnya adalah Pohon Pencarian Biner.\n",
        "yang disusun secara teratur mengikuti urutan penambahan data.\n",
        "Dengan menambahkan data seperti yang disebutkan, pohon akan terbentuk sesuai dengan aturan Binary Search Tree (BST).\n",
        "Tidak perlu mengatur cabang secara manual karena aturan BST akan secara otomatis diterapkan.\n",
        "Menempatkan informasi pada posisi yang tepat.\n"
      ],
      "metadata": {
        "id": "4g75I9Z4JYXp"
      }
    },
    {
      "cell_type": "markdown",
      "source": [
        "Setelah tree terbentuk, kita akan membuat tiga jenis traversal untuk menelusuri isi\n",
        "tree: preorder, inorder, dan postorder.\n"
      ],
      "metadata": {
        "id": "cHsAN7kcJuvk"
      }
    },
    {
      "cell_type": "code",
      "source": [
        "#Tranversal pada BST\n",
        "\n",
        "def inorder(node):\n",
        "  if node:\n",
        "    inorder(node.left)\n",
        "    print(node.data, end=' ')\n",
        "    inorder(node.right)\n",
        "\n",
        "def preorder(node):\n",
        "  if node:\n",
        "    print(node.data, end=' ')\n",
        "    preorder(node.left)\n",
        "    preorder(node.right)\n",
        "\n",
        "def postorder(node):\n",
        "  if node:\n",
        "    postorder(node.left)\n",
        "    postorder(node.right)\n",
        "    print(node.data, end=' ')\n",
        "\n",
        "print('Inorder traversal: ', end='')\n",
        "inorder(root)\n",
        "print('\\nPreorder traversal: ', end='')\n",
        "preorder(root)\n",
        "print('\\nPostorder traversal: ', end='')\n",
        "postorder(root)"
      ],
      "metadata": {
        "colab": {
          "base_uri": "https://localhost:8080/"
        },
        "id": "wUdDdQFrWMoI",
        "outputId": "ac1259be-b168-4bd5-d7f7-dff7ce887774"
      },
      "execution_count": null,
      "outputs": [
        {
          "output_type": "stream",
          "name": "stdout",
          "text": [
            "Inorder traversal: 80 \n",
            "Preorder traversal: 80 \n",
            "Postorder traversal: 80 "
          ]
        }
      ]
    },
    {
      "cell_type": "markdown",
      "source": [
        "Tiga jenis traversal digunakan untuk menelusuri BST:\n",
        "Inorder: menyajikan informasi dari yang paling kecil hingga yang paling besar.\n",
        "Preorder: berfungsi untuk mencetak struktur pohon dari akar ke bawah.\n",
        "Postorder: mencetak node setelah semua subpohon selesai diproses.\n",
        "Setiap fungsi memanggil dirinya sendiri secara berulang kepada anak kiri dan kanan sesuai.\n",
        "Urutan penelusuran. Mahasiswa bisa mengamati perbedaan urutan keluaran dari setiap metode dan mengerti cara penelusuran pohon. Inorder: memperlihatkan data dari yang paling kecil hingga yang terbesar.\n",
        "Preorder: digunakan untuk mencetak struktur pohon dari akar ke bawah.\n",
        "Postorder: mencetak node setelah semua subtree-nya telah diproses sepenuhnya.\n",
        "Setiap fungsi melakukan pemanggilan ulang terhadap dirinya sendiri secara berurutan kepada anak kiri dan kanan sesuai.\n",
        "Tata letak urutan penelusuran. Mahasiswa dapat mengamati perbedaan urutan keluaran dari setiap metode dan memahami cara menjelajahi tree."
      ],
      "metadata": {
        "id": "Z1a_oJErLHlt"
      }
    },
    {
      "cell_type": "markdown",
      "source": [
        "Kami akan berusaha untuk menemukan elemen dalam BST dengan menggunakan metode rekursif.\n",
        "Perhatikan bagaimana pencarian mematuhi prinsip-prinsip pohon untuk menetapkan arahnya.\n",
        "Pencarian.\n"
      ],
      "metadata": {
        "id": "gjei1ZBuLKmw"
      }
    },
    {
      "cell_type": "code",
      "source": [
        "#PencarianNilai BST\n",
        "\n",
        "def search (node, key) :\n",
        "    if node is None or node.data == key:\n",
        "      return node\n",
        "    if key < node.data:\n",
        "      return search(node.left, key)\n",
        "    return search(node.right, key)\n",
        "\n",
        "# Uji pencarian\n",
        "key = 60\n",
        "result = search (root, key)\n",
        "if result:\n",
        "  print (f\"{key} ditemukan dalam tree.\")\n",
        "else:\n",
        "  print (f\"{key} tidak ditemukan.\")\n",
        "\n",
        "key = 25\n",
        "result = search(root, key)\n",
        "if result:\n",
        "  print (f\"{key} ditemukan dalam tree.\")\n",
        "else:\n",
        "  print (f\"{key} tidak ditemukan.\")"
      ],
      "metadata": {
        "id": "21X0KOtYaUM7",
        "colab": {
          "base_uri": "https://localhost:8080/"
        },
        "outputId": "f57907a5-1ce0-408c-8e56-b03ea115dff9"
      },
      "execution_count": 5,
      "outputs": [
        {
          "output_type": "stream",
          "name": "stdout",
          "text": [
            "60 ditemukan dalam tree.\n",
            "25 tidak ditemukan.\n"
          ]
        }
      ]
    },
    {
      "cell_type": "markdown",
      "source": [
        "Fungsi search() digunakan untuk menemukan elemen dalam BST. Algoritma berfungsi dengan\n",
        "Membandingkan nilai yang diharapkan dengan nilai dari node saat ini. Apabila identik, maka node akan dikembalikan.\n",
        "Apabila nilai lebih kecil, pencarian dilanjutkan ke subtree kiri; jika lebih besar, ke subtree kanan.\n",
        "Program akan menampilkan informasi mengenai apakah data tersebut ada atau tidak.\n"
      ],
      "metadata": {
        "id": "i-4fnVdeL8rU"
      }
    },
    {
      "cell_type": "markdown",
      "source": [
        "D. LATIHAN/TUGAS\n",
        "Untuk memperdalam pemahaman terhadap struktur Binary Tree dan Binary Search Tree\n",
        "(BST), lakukan implementasi program berikut berdasarkan data yang disesuaikan dengan\n",
        "identitas pribadi Anda.\n",
        "\n",
        "Tugas 1: Program Struktur Binary Tree Manual\n",
        "Deskripsi:\n",
        "Buat program Python untuk membangun binary tree secara manual (bukan BST) berdasarkan\n",
        "data yang Anda olah dari nama dan NPМ.\n",
        "Ketentuan:\n",
        "Node root adalah jumlah huruf pada nama lengkap Anda.\n",
        "Anak kiri root: jumlah huruf vokal (a, i, u, e, o) pada nama Anda.\n",
        "Anak kanan root: dua digit terakhir dari NPM Anda.\n",
        "Tambahkan satu level lagi (anak dari anak) berdasarkan tanggal lahir Anda:\n",
        "• Anak kiri dari node kiri: tanggal (DD).\n",
        "• Anak kanan dari node kanan: bulan (MM).\n",
        "Tampilkan tree dengan inorder traversal.\n",
        "Output yang Diharapkan:\n",
        "Struktur tree ditampilkan menggunakan print traversal.\n",
        "Tambahkan komentar di atas program: \"Struktur Tree berdasarkan identitas saya\"."
      ],
      "metadata": {
        "id": "MiaIo0rzMDJa"
      }
    },
    {
      "cell_type": "code",
      "source": [
        "# Struktur Tree berdasarkan identitas saya\n",
        "\n",
        "class Node:\n",
        "    def __init__(self, data):\n",
        "        self.data = data\n",
        "        self.left = None\n",
        "        self.right = None\n",
        "\n",
        "class BinaryTree:\n",
        "    def __init__(self):\n",
        "        self.root = None\n",
        "\n",
        "    def inorder(self, node):\n",
        "        if node is not None:\n",
        "            self.inorder(node.left)\n",
        "            print(node.data)\n",
        "            self.inorder(node.right)\n",
        "\n",
        "tree = BinaryTree()\n",
        "\n",
        "# Data identitas\n",
        "nama = \"kanahaya\"\n",
        "npm = \"2420506021\"\n",
        "tanggal_lahir = 12  # DD\n",
        "bulan_lahir = 5     # MM\n",
        "\n",
        "# Hitung data untuk node-node\n",
        "jumlah_huruf_nama = len(nama)               # root\n",
        "jumlah_vokal = sum(1 for c in nama if c in \"aiueo\")  # anak kiri root\n",
        "dua_digit_npm = int(npm[-2:])               # anak kanan root\n",
        "\n",
        "# Buat node-node manual\n",
        "tree.root = Node(jumlah_huruf_nama)         # Root: jumlah huruf nama\n",
        "tree.root.left = Node(jumlah_vokal)         # Anak kiri: jumlah huruf vokal\n",
        "tree.root.right = Node(dua_digit_npm)       # Anak kanan: dua digit terakhir NPM\n",
        "\n",
        "# Anak dari anak\n",
        "tree.root.left.left = Node(tanggal_lahir)   # Anak kiri dari anak kiri: tanggal\n",
        "tree.root.right.right = Node(bulan_lahir)   # Anak kanan dari anak kanan: bulan\n",
        "\n",
        "# Tampilkan inorder traversal\n",
        "print(\"Inorder Traversal Tree:\")\n",
        "tree.inorder(tree.root)"
      ],
      "metadata": {
        "colab": {
          "base_uri": "https://localhost:8080/"
        },
        "id": "DXSxv_JfN9ds",
        "outputId": "8a472185-0ad7-4af7-dfde-471ddb0cbd91"
      },
      "execution_count": 6,
      "outputs": [
        {
          "output_type": "stream",
          "name": "stdout",
          "text": [
            "Inorder Traversal Tree:\n",
            "12\n",
            "4\n",
            "8\n",
            "21\n",
            "5\n"
          ]
        }
      ]
    },
    {
      "cell_type": "markdown",
      "source": [
        "Penjelasan Output:\n",
        "Jika nama = \"kanahaya\":\n",
        "\n",
        "Jumlah huruf nama = 8\n",
        "\n",
        "Jumlah huruf vokal = 4 (a, a, a, a)\n",
        "\n",
        "Dua digit terakhir NPM = 21\n",
        "\n",
        "Tanggal lahir = 12\n",
        "\n",
        "Bulan lahir = 5"
      ],
      "metadata": {
        "id": "sgk0v7x4OBTR"
      }
    },
    {
      "cell_type": "markdown",
      "source": [
        "Tugas 2: Program Binary Search Tree (BST)\n",
        "Deskripsi:\n",
        "Buat program Python untuk membentuk BST secara otomatis dari data numerik yang unik bagi\n",
        "Anda.\n",
        "Ketentuan:\n",
        "Buat daftar 7 angka dengan aturan berikut:\n",
        "1. Tiga digit terakhir NPM Anda\n",
        "2. Tanggal lahir (DDMM, pisahkan menjadi dua angka: DD dan MM)\n",
        "3. ASCII dari huruf pertama dan kedua nama depan Anda\n",
        "4. Tambahkan dua angka bebas (boleh favorit Anda)\n",
        "Sisipkan semua angka tersebut ke dalam BST.\n",
        "Tampilkan hasil traversal:\n",
        "• Inorder\n",
        "Preorder\n",
        "Postorder\n",
        "Tambahkan fitur pencarian:\n",
        "• Cari angka dengan nilai dua digit terakhir NPM Anda\n",
        "• Cari angka yang tidak termasuk dalam list (buat sendiri)\n",
        "Output yang Diharapkan:\n",
        "Hasil setiap traversal tercetak rapi\n",
        "Hasil pencarian menunjukkan apakah data ditemukan atau tidak\n",
        "Tambahkan komentar penjelasan pendek di setiap bagian kode"
      ],
      "metadata": {
        "id": "-CAKML_rOMNb"
      }
    },
    {
      "cell_type": "code",
      "source": [
        "# Program Binary Search Tree (BST) berdasarkan data pribadi saya\n",
        "\n",
        "class Node:\n",
        "    def __init__(self, data):\n",
        "        self.data = data\n",
        "        self.left = None\n",
        "        self.right = None\n",
        "\n",
        "class BinarySearchTree:\n",
        "    def __init__(self):\n",
        "        self.root = None\n",
        "\n",
        "    # Fungsi untuk menyisipkan data ke BST\n",
        "    def insert(self, root, data):\n",
        "        if root is None:\n",
        "            return Node(data)\n",
        "        if data < root.data:\n",
        "            root.left = self.insert(root.left, data)\n",
        "        else:\n",
        "            root.right = self.insert(root.right, data)\n",
        "        return root\n",
        "\n",
        "    # Inorder traversal: kiri - akar - kanan\n",
        "    def inorder(self, node):\n",
        "        if node is not None:\n",
        "            self.inorder(node.left)\n",
        "            print(node.data)\n",
        "            self.inorder(node.right)\n",
        "\n",
        "    # Preorder traversal: akar - kiri - kanan\n",
        "    def preorder(self, node):\n",
        "        if node is not None:\n",
        "            print(node.data)\n",
        "            self.preorder(node.left)\n",
        "            self.preorder(node.right)\n",
        "\n",
        "    # Postorder traversal: kiri - kanan - akar\n",
        "    def postorder(self, node):\n",
        "        if node is not None:\n",
        "            self.postorder(node.left)\n",
        "            self.postorder(node.right)\n",
        "            print(node.data)\n",
        "\n",
        "    # Fungsi untuk mencari nilai dalam BST\n",
        "    def search(self, node, target):\n",
        "        if node is None:\n",
        "            return False\n",
        "        if node.data == target:\n",
        "            return True\n",
        "        elif target < node.data:\n",
        "            return self.search(node.left, target)\n",
        "        else:\n",
        "            return self.search(node.right, target)\n",
        "\n",
        "# Inisialisasi BST\n",
        "bst = BinarySearchTree()\n",
        "root = None\n",
        "\n",
        "# Data pribadi:\n",
        "# 1. Tiga digit terakhir NPM: 021\n",
        "# 2. Tanggal lahir: 12 Mei (12 dan 5)\n",
        "# 3. ASCII huruf pertama dan kedua nama depan \"kanahaya\": 'k' = 107, 'a' = 97\n",
        "# 4. Dua angka favorit: 8 dan 4\n",
        "\n",
        "data_list = [21, 12, 5, 107, 97, 8, 4]\n",
        "\n",
        "# Menyisipkan data ke BST\n",
        "for value in data_list:\n",
        "    root = bst.insert(root, value)\n",
        "\n",
        "# Menampilkan hasil traversal\n",
        "print(\"Inorder Traversal:\")\n",
        "bst.inorder(root)\n",
        "\n",
        "print(\"\\nPreorder Traversal:\")\n",
        "bst.preorder(root)\n",
        "\n",
        "print(\"\\nPostorder Traversal:\")\n",
        "bst.postorder(root)\n",
        "\n",
        "# Fitur pencarian\n",
        "print(\"\\nPencarian:\")\n",
        "target1 = 21   # dua digit terakhir NPM\n",
        "target2 = 99   # angka yang tidak ada\n",
        "\n",
        "if bst.search(root, target1):\n",
        "    print(f\"{target1} ditemukan dalam BST.\")\n",
        "else:\n",
        "    print(f\"{target1} tidak ditemukan dalam BST.\")\n",
        "\n",
        "if bst.search(root, target2):\n",
        "    print(f\"{target2} ditemukan dalam BST.\")\n",
        "else:\n",
        "    print(f\"{target2} tidak ditemukan dalam BST.\")\n"
      ],
      "metadata": {
        "colab": {
          "base_uri": "https://localhost:8080/"
        },
        "id": "8QE3oGK0P4o5",
        "outputId": "c5a794f2-a67d-4018-8a78-0c9a99728384"
      },
      "execution_count": 7,
      "outputs": [
        {
          "output_type": "stream",
          "name": "stdout",
          "text": [
            "Inorder Traversal:\n",
            "4\n",
            "5\n",
            "8\n",
            "12\n",
            "21\n",
            "97\n",
            "107\n",
            "\n",
            "Preorder Traversal:\n",
            "21\n",
            "12\n",
            "5\n",
            "4\n",
            "8\n",
            "107\n",
            "97\n",
            "\n",
            "Postorder Traversal:\n",
            "4\n",
            "8\n",
            "5\n",
            "12\n",
            "97\n",
            "107\n",
            "21\n",
            "\n",
            "Pencarian:\n",
            "21 ditemukan dalam BST.\n",
            "99 tidak ditemukan dalam BST.\n"
          ]
        }
      ]
    },
    {
      "cell_type": "markdown",
      "source": [
        "Kode BST yang telah disebutkan sebelumnya:\n",
        "Kelas Node: Membentuk struktur simpul yang memiliki data serta dua anak (kiri dan kanan).\n",
        "Kelas BinarySearchTree:\n",
        "Menyisipkan informasi ke dalam pohon secara berulang sesuai dengan prinsip BST (nilai yang lebih rendah ditempatkan di sebelah kiri, sedangkan nilai yang lebih tinggi ditempatkan di sebelah kanan).\n",
        "Inorder, preorder, postorder: Fungsi penelusuran untuk menampilkan konten pohon dalam urutan yang beragam.\n",
        "Mencari nilai tertentu dalam pohon, akan mengembalikan True jika nilai tersebut ditemukan, dan False jika nilai tersebut tidak ada.\n",
        "Daftar data: Memuat angka sesuai dengan ketentuan pekerjaan (dua digit terakhir dari NPM, tanggal dan bulan kelahiran, nilai ASCII dari nama, serta angka favorit).\n",
        "Proses: Setiap angka dimasukkan ke dalam BST secara individual.\n",
        "Menunjukkan hasil dari penelusuran dan hasil pencarian nilai tertentu dalam BST.\n",
        "Secara ringkas, program ini membuat Pohon Pencarian Biner (BST) dari informasi pribadi, menampilkan isinya, dan mencari nilai tertentu di dalamnya.\n"
      ],
      "metadata": {
        "id": "n8Ro5yiMP7Qo"
      }
    }
  ]
}