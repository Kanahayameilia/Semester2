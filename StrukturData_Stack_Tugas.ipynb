{
  "nbformat": 4,
  "nbformat_minor": 0,
  "metadata": {
    "colab": {
      "provenance": []
    },
    "kernelspec": {
      "name": "python3",
      "display_name": "Python 3"
    },
    "language_info": {
      "name": "python"
    }
  },
  "cells": [
    {
      "cell_type": "markdown",
      "source": [
        "Rombel GENAP: Simulasi Tumpukan Barang dalam Gudang\n",
        "\n",
        "Deskripsi:\n",
        "Dalam game ini, pemain bertindak sebagai manajer gudang yang harus menyusun dan\n",
        "mengambil barang dari tumpukan dengan aturan Last In, First Out (LIFO).\n",
        "\n",
        "Konsep Stack:\n",
        "  * Push → Menambahkan barang baru ke gudang.\n",
        "  * Pop → Mengambil barang terakhir yang masuk.\n",
        "\n",
        "Tantangan untuk Mahasiswa:\n",
        "  * Gunakan Stack untuk menyimpan daftar barang dalam gudang.\n",
        "  * Pemain dapat memasukkan dan mengambil barang sesuai dengan aturan LIFO.\n",
        "  * Gunakan dua digit terakhir NPM sebagai jumlah maksimal barang dalam gudang sebelum penuh."
      ],
      "metadata": {
        "id": "_8SWOAADyC0A"
      }
    },
    {
      "cell_type": "code",
      "source": [
        "class Warehouse:\n",
        "    def __init__(self, capacity):\n",
        "        self.capacity, self.stack = capacity, []\n",
        "\n",
        "    def push(self, item):\n",
        "        print(f\"{item} ditambahkan.\" if len(self.stack) < self.capacity and not self.stack.append(item) else \"Gudang penuh!\")\n",
        "\n",
        "    def pop(self):\n",
        "        print(f\"Mengambil: {self.stack.pop()}\" if self.stack else \"Gudang kosong!\")\n",
        "\n",
        "    def show_stack(self):\n",
        "        print(\"\\n\".join(reversed(self.stack)) if self.stack else \"Gudang kosong.\")\n",
        "\n",
        "# Kapasitas gudang sesuai dua digit terakhir NPM (21)\n",
        "gudang = Warehouse(21)\n",
        "\n",
        "while (menu := input(\"\\n1. Tambah Barang\\n2. Ambil Barang\\n3. Lihat Gudang\\n4. Keluar\\nPilih menu: \")) != \"4\":\n",
        "    {\"1\": lambda: gudang.push(input(\"Masukkan nama barang: \")),\n",
        "     \"2\": gudang.pop,\n",
        "     \"3\": gudang.show_stack}.get(menu, lambda: print(\"Pilihan tidak valid!\"))()\n"
      ],
      "metadata": {
        "colab": {
          "base_uri": "https://localhost:8080/"
        },
        "id": "YPA0KtJIzwEx",
        "outputId": "8c5c91d2-a907-46ee-d161-8cf82991e7fa"
      },
      "execution_count": 2,
      "outputs": [
        {
          "name": "stdout",
          "output_type": "stream",
          "text": [
            "\n",
            "1. Tambah Barang\n",
            "2. Ambil Barang\n",
            "3. Lihat Gudang\n",
            "4. Keluar\n",
            "Pilih menu: 1\n",
            "Masukkan nama barang: koin\n",
            "koin ditambahkan.\n",
            "\n",
            "1. Tambah Barang\n",
            "2. Ambil Barang\n",
            "3. Lihat Gudang\n",
            "4. Keluar\n",
            "Pilih menu: 1\n",
            "Masukkan nama barang: kardus\n",
            "kardus ditambahkan.\n",
            "\n",
            "1. Tambah Barang\n",
            "2. Ambil Barang\n",
            "3. Lihat Gudang\n",
            "4. Keluar\n",
            "Pilih menu: 1\n",
            "Masukkan nama barang: pot\n",
            "pot ditambahkan.\n",
            "\n",
            "1. Tambah Barang\n",
            "2. Ambil Barang\n",
            "3. Lihat Gudang\n",
            "4. Keluar\n",
            "Pilih menu: 2\n",
            "Mengambil: pot\n",
            "\n",
            "1. Tambah Barang\n",
            "2. Ambil Barang\n",
            "3. Lihat Gudang\n",
            "4. Keluar\n",
            "Pilih menu: 3\n",
            "kardus\n",
            "koin\n",
            "\n",
            "1. Tambah Barang\n",
            "2. Ambil Barang\n",
            "3. Lihat Gudang\n",
            "4. Keluar\n",
            "Pilih menu: 4\n"
          ]
        }
      ]
    },
    {
      "cell_type": "markdown",
      "source": [
        "Kode ini adalah simulasi gudang yang menggunakan prinsip Stack (LIFO - Last In, First Out). Berikut adalah cara kerjanya:\n",
        "\n",
        "  * Tambah Barang (push): Jika gudang belum penuh, pengguna dapat menambah barang ke dalam gudang.\n",
        "  * Ambil Barang (pop): Pengguna dapat mengambil barang terakhir yang masuk ke gudang.\n",
        "  * Lihat Gudang (show_stack): Menampilkan daftar barang yang ada di dalam gudang.\n",
        "  * Menu Interaktif: Pengguna dapat memilih opsi yang tersedia melalui input yang diberikan.\n",
        "\n",
        "Gudang ini memiliki kapasitas untuk menyimpan maksimal 21 barang, sesuai dengan dua digit terakhir dari NPM. 🚛📦"
      ],
      "metadata": {
        "id": "KUQEJyBb0LtI"
      }
    }
  ]
}