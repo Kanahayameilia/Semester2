{
  "nbformat": 4,
  "nbformat_minor": 0,
  "metadata": {
    "colab": {
      "provenance": []
    },
    "kernelspec": {
      "name": "python3",
      "display_name": "Python 3"
    },
    "language_info": {
      "name": "python"
    }
  },
  "cells": [
    {
      "cell_type": "code",
      "execution_count": 9,
      "metadata": {
        "colab": {
          "base_uri": "https://localhost:8080/"
        },
        "id": "YYglPXmPRcBL",
        "outputId": "348cb919-7127-429b-8811-a19aff93d3fc"
      },
      "outputs": [
        {
          "output_type": "stream",
          "name": "stdout",
          "text": [
            "Nilai untuk 'apel': 100\n",
            "Nilai untuk 'pisang': 200\n"
          ]
        }
      ],
      "source": [
        "class SimpleHashTable:\n",
        "  def __init__(self, size):\n",
        "    self.size = size\n",
        "    self.table = [None]*size\n",
        "\n",
        "  def hash_function(self, key):\n",
        "    return hash (key) % self.size\n",
        "\n",
        "  def insert(self, key, value):\n",
        "    index = self.hash_function(key)\n",
        "    self.table[index] = value\n",
        "\n",
        "  def search(self, key) :\n",
        "    index = self.hash_function(key)\n",
        "    return self.table[index]\n",
        "\n",
        "# Contoh penggunaan\n",
        "\n",
        "ht = SimpleHashTable(10)\n",
        "ht.insert(\"apel\", 100)\n",
        "ht.insert(\"pisang\", 200)\n",
        "print(\"Nilai untuk 'apel':\", ht.search(\"apel\"))\n",
        "print (\"Nilai untuk 'pisang':\", ht.search(\"pisang\"))"
      ]
    },
    {
      "cell_type": "code",
      "source": [
        "class LinearProbingHashTable:\n",
        "  def __init__(self, size):\n",
        "    self.size = size\n",
        "    self.table = [None] * size\n",
        "\n",
        "  def hash_function(self, key):\n",
        "    return hash(key) % self.size\n",
        "\n",
        "  def insert(self, key, value):\n",
        "    index = self.hash_function(key)\n",
        "    original_index = index\n",
        "\n",
        "    while self.table[index] is not None:\n",
        "      if self.table[index][0] == key:\n",
        "        break\n",
        "      index = (index + 1) % self.size\n",
        "      if index == original_index:\n",
        "        raise Exception(\"Hash table penuh\")\n",
        "\n",
        "    self.table[index] = (key, value)\n",
        "\n",
        "  def search(self, key):\n",
        "    index = self.hash_function(key)\n",
        "    original_index = index\n",
        "\n",
        "    while self.table[index] is not None:\n",
        "      if self.table[index][0] == key:\n",
        "        return self.table[index][1]\n",
        "      index = (index + 1) % self.size\n",
        "      if index == original_index:\n",
        "        break\n",
        "    return None\n",
        "\n",
        "#Contoh penggunaan\n",
        "ht = LinearProbingHashTable(5)\n",
        "ht.insert(\"apel\", 100)\n",
        "ht.insert(\"pisang\", 200)\n",
        "ht.insert(\"melon\", 300)\n",
        "print(\"Nilai untuk 'apel':\", ht.search(\"apel\"))\n",
        "print(\"Nilai untuk 'melon':\", ht.search(\"melon\"))"
      ],
      "metadata": {
        "colab": {
          "base_uri": "https://localhost:8080/"
        },
        "id": "aZP2cUmUWyrk",
        "outputId": "31c5cb62-7d3d-4d42-94bd-0e05a958f7b4"
      },
      "execution_count": 13,
      "outputs": [
        {
          "output_type": "stream",
          "name": "stdout",
          "text": [
            "Nilai untuk 'apel': 100\n",
            "Nilai untuk 'melon': 300\n"
          ]
        }
      ]
    },
    {
      "cell_type": "code",
      "source": [
        "class ChainingHashTable:\n",
        "  def __init__ (self, size):\n",
        "    self.size = size\n",
        "    self.table = [[] for _ in range(size)]\n",
        "\n",
        "  def hash_function(self, key):\n",
        "    return hash (key) % self.size\n",
        "\n",
        "  def insert(self, key, value) :\n",
        "    index = self.hash_function (key)\n",
        "    for i, (k, v) in enumerate (self.table[index]):\n",
        "      if k == key:\n",
        "        self.table[index] [i] = (key, value)\n",
        "        return\n",
        "    self.table[index].append((key, value)) # Ensure this line is correctly indented\n",
        "\n",
        "  def search(self, key):\n",
        "    index = self.hash_function (key)\n",
        "    for k, v in self.table[index]:\n",
        "      if k == key:\n",
        "        return v\n",
        "    return None\n",
        "\n",
        "# Contoh penggunaan\n",
        "ht = ChainingHashTable(5)\n",
        "ht.insert(\"apel\", 100)\n",
        "ht.insert(\"pisang\", 200)\n",
        "ht.insert(\"melon\", 300)\n",
        "\n",
        "print(\"Nilai untuk 'apel':\", ht.search(\"apel\"))\n",
        "print (\"Nilai untuk 'melon':\", ht.search(\"melon\"))"
      ],
      "metadata": {
        "colab": {
          "base_uri": "https://localhost:8080/"
        },
        "id": "WjYUW0bYYaAR",
        "outputId": "c98ec606-77cb-48ae-ca51-9906442e32ca"
      },
      "execution_count": 17,
      "outputs": [
        {
          "output_type": "stream",
          "name": "stdout",
          "text": [
            "Nilai untuk 'apel': 100\n",
            "Nilai untuk 'melon': 300\n"
          ]
        }
      ]
    },
    {
      "cell_type": "markdown",
      "source": [
        "1. Modifikasi kode LinearProbingHashTable dengan menambahkan 5 data ke dalam tabel\n",
        "yang berukuran 5.\n",
        "Instruksi:\n",
        "a. Buat objek LinearProbingHashTable dengan ukuran tabel 5.\n",
        "b. Masukkan pasangan key-value berikut:\n",
        "\"A\": 10, \"B\": 20, \"C\": 30, \"D\": 40, \"E\":\n",
        "c. Cetak isi array self.table setelah semua data dimasukkan.\n",
        "50\n",
        "d. Jelaskan apa yang terjadi jika dua key memiliki hasil hash yang sama."
      ],
      "metadata": {
        "id": "3ww3toF3bkv7"
      }
    },
    {
      "cell_type": "code",
      "source": [
        "class LinearProbingHashTable:\n",
        "  def __init__(self, size):\n",
        "    self.size = size\n",
        "    self.table = [None] * size\n",
        "\n",
        "  def hash_function(self, key):\n",
        "    return hash(key) % self.size\n",
        "\n",
        "  def insert(self, key, value):\n",
        "    index = self.hash_function(key)\n",
        "    original_index = index\n",
        "\n",
        "    while self.table[index] is not None:\n",
        "      if self.table[index][0] == key:\n",
        "        break\n",
        "      index = (index + 1) % self.size\n",
        "      if index == original_index:\n",
        "        raise Exception(\"Hash table penuh\")\n",
        "\n",
        "    self.table[index] = (key, value)\n",
        "\n",
        "  def search(self, key):\n",
        "    index = self.hash_function(key)\n",
        "    original_index = index\n",
        "\n",
        "    while self.table[index] is not None:\n",
        "      if self.table[index][0] == key:\n",
        "        return self.table[index][1]\n",
        "      index = (index + 1) % self.size\n",
        "      if index == original_index:\n",
        "        break\n",
        "    return None\n",
        "\n",
        "# a. Buat objek LinearProbingHashTable dengan ukuran tabel 5.\n",
        "ht = LinearProbingHashTable(5)\n",
        "\n",
        "# b. Masukkan pasangan key-value berikut: \"A\": 10, \"B\": 20, \"C\": 30, \"D\": 40, \"E\": 50\n",
        "ht.insert(\"A\", 10)\n",
        "ht.insert(\"B\", 20)\n",
        "ht.insert(\"C\", 30)\n",
        "ht.insert(\"D\", 40)\n",
        "ht.insert(\"E\", 50)\n",
        "\n",
        "# c. Cetak isi array self.table setelah semua data dimasukkan.\n",
        "print(\"Isi tabel hash:\", ht.table)"
      ],
      "metadata": {
        "colab": {
          "base_uri": "https://localhost:8080/"
        },
        "id": "aDNNGg_abkPF",
        "outputId": "bc9a3a12-fbce-440a-cb63-1847622f6b1c"
      },
      "execution_count": 18,
      "outputs": [
        {
          "output_type": "stream",
          "name": "stdout",
          "text": [
            "Isi tabel hash: [('E', 50), ('C', 30), ('A', 10), ('B', 20), ('D', 40)]\n"
          ]
        }
      ]
    },
    {
      "cell_type": "markdown",
      "source": [
        "Di LinearProbingHashTable, apabila dua kunci menghasilkan nilai hash yang identik (terjadi kolisi), sistem akan secara linear mencari slot kosong berikutnya di dalam tabel hash. Langkah ini dilakukan dengan menambah 1 pada indeks hasil hash awal secara terus menerus hingga ditemukan slot yang kosong. Data yang baru akan disimpan pada slot kosong yang telah ditemukan.\n",
        "\n",
        "Namun, jika tabel hash sudah penuh dan tidak terdapat slot kosong setelah melakukan probing secara linear hingga kembali ke indeks awal, maka akan muncul Exception(\"Tabel hash penuh\").\n",
        "\n",
        "Dalam contoh kode tersebut, meskipun ukurannya 5 dan Anda telah memasukkan 5 data, fungsi hash default dari Python mungkin dapat menghasilkan kolisi untuk kunci-kunci yang telah Anda masukkan. Apabila terjadi kolisi, data akan diletakkan pada slot kosong berikutnya dengan metode probing linier. Hasil dari cetakan ht. table akan memperlihatkan cara distribusi data dalam tabel, yang mungkin tidak selalu mengikuti urutan input jika terjadi situasi kolisi.\n"
      ],
      "metadata": {
        "id": "FWXAaSc0b5H4"
      }
    },
    {
      "cell_type": "code",
      "source": [
        "class ChainingHashTable:\n",
        "  def __init__ (self, size):\n",
        "    self.size = size\n",
        "    self.table = [[] for _ in range(size)]\n",
        "\n",
        "  def hash_function(self, key):\n",
        "    return hash (key) % self.size\n",
        "\n",
        "  def insert(self, key, value) :\n",
        "    index = self.hash_function (key)\n",
        "    for i, (k, v) in enumerate (self.table[index]):\n",
        "      if k == key:\n",
        "        self.table[index] [i] = (key, value)\n",
        "        return\n",
        "    self.table[index].append((key, value))\n",
        "\n",
        "  def search(self, key):\n",
        "    index = self.hash_function (key)\n",
        "    for k, v in self.table[index]:\n",
        "      if k == key:\n",
        "        return v\n",
        "    return None\n",
        "\n",
        "# a. Gunakan ukuran tabel 3.\n",
        "ht = ChainingHashTable(3)\n",
        "\n",
        "# b. Masukkan key-value berikut: \"apel\": 100, \"melon\": 200, \"lemon\": 300, \"pisang\": 400\n",
        "ht.insert(\"apel\", 100)\n",
        "ht.insert(\"melon\", 200)\n",
        "ht.insert(\"lemon\", 300)\n",
        "ht.insert(\"pisang\", 400)\n",
        "\n",
        "# c. Cetak isi tabel (self.table) dan tampilkan semua data yang disimpan di setiap slot.\n",
        "print(\"Isi tabel hash:\", ht.table)\n"
      ],
      "metadata": {
        "colab": {
          "base_uri": "https://localhost:8080/"
        },
        "id": "9p_k32kbcdR8",
        "outputId": "b6c3bb0e-a241-46f0-f1fe-fb7c409d4bf5"
      },
      "execution_count": 19,
      "outputs": [
        {
          "output_type": "stream",
          "name": "stdout",
          "text": [
            "Isi tabel hash: [[('lemon', 300), ('pisang', 400)], [('melon', 200)], [('apel', 100)]]\n"
          ]
        }
      ]
    },
    {
      "cell_type": "markdown",
      "source": [
        "Penjelasan Kode:\n",
        "\n",
        "Inisialisasi ChainingHashTable: Objek ChainingHashTable dibuat dengan ukuran 3. Ini berarti tabel hash akan memiliki 3 slot (indeks 0, 1, dan 2). Setiap slot diinisialisasi sebagai daftar kosong ([]).\n",
        "Metode insert:\n",
        "Hash dari key dihitung menggunakan hash_function dan modulus dengan ukuran tabel untuk mendapatkan indeks slot.\n",
        "Kode kemudian memeriksa apakah key sudah ada dalam daftar di slot tersebut. Jika ya, value yang lama diperbarui.\n",
        "Jika key belum ada, pasangan key-value ditambahkan ke akhir daftar di slot tersebut.\n",
        "Metode search:\n",
        "Hash dari key dihitung untuk mendapatkan indeks slot.\n",
        "Kode mengiterasi daftar di slot tersebut untuk mencari pasangan key-value dengan key yang cocok.\n",
        "Jika key ditemukan, value yang terkait dikembalikan. Jika tidak, None dikembalikan.\n",
        "Contoh Penggunaan:\n",
        "Beberapa pasangan key-value dimasukkan ke dalam tabel hash. Karena ukuran tabel hanya 3, kemungkinan besar akan terjadi collision untuk beberapa key.\n",
        "Isi ht.table dicetak untuk menunjukkan bagaimana data disimpan dalam slot-slot yang berbeda, termasuk daftar di dalam slot yang menangani collision.\n",
        "Penjelasan Penanganan Collision: Penjelasan teks menjelaskan cara kerja chaining dalam menangani collision. Ketika key yang berbeda memiliki hasil hash yang sama, kedua pasangan key-value tersebut disimpan dalam daftar yang sama di slot yang bersangkutan."
      ],
      "metadata": {
        "id": "DutIjrv4eLC3"
      }
    }
  ]
}