{
  "nbformat": 4,
  "nbformat_minor": 0,
  "metadata": {
    "colab": {
      "provenance": []
    },
    "kernelspec": {
      "name": "python3",
      "display_name": "Python 3"
    },
    "language_info": {
      "name": "python"
    }
  },
  "cells": [
    {
      "cell_type": "markdown",
      "source": [],
      "metadata": {
        "id": "1T81HknXsfLM"
      }
    },
    {
      "cell_type": "code",
      "execution_count": null,
      "metadata": {
        "colab": {
          "base_uri": "https://localhost:8080/"
        },
        "id": "UMr_m-ZhrZ2o",
        "outputId": "da63e85f-75c1-4e65-8704-1e929ab5596b"
      },
      "outputs": [
        {
          "output_type": "stream",
          "name": "stdout",
          "text": [
            "isi array angka: [10, 11, 12, 13]\n"
          ]
        }
      ],
      "source": [
        "data = []\n",
        "angka = [10, 11, 12, 13]\n",
        "print(\"isi array angka:\", angka)"
      ]
    },
    {
      "cell_type": "code",
      "source": [
        "#latiahan1\n",
        "data = []\n",
        "npm = [2420506021, 2420506022, 2420506023, 2420506024, 2420506025]\n",
        "print(\"npm sesudah:\", npm)"
      ],
      "metadata": {
        "colab": {
          "base_uri": "https://localhost:8080/"
        },
        "id": "11_guAv0tSPD",
        "outputId": "eac55df0-c190-4922-82c2-37e785b97f3b"
      },
      "execution_count": null,
      "outputs": [
        {
          "output_type": "stream",
          "name": "stdout",
          "text": [
            "npm sesudah: [2420506021, 2420506022, 2420506023, 2420506024, 2420506025]\n"
          ]
        }
      ]
    },
    {
      "cell_type": "code",
      "source": [
        "data = []\n",
        "angka = (24, 20, 50, 60, 21)\n",
        "print (\"elmen pertama:\", angka[0])\n",
        "print (\"elemen terakhir:\", angka[-1])"
      ],
      "metadata": {
        "colab": {
          "base_uri": "https://localhost:8080/"
        },
        "id": "3j_1_245u7Fb",
        "outputId": "228477f4-efc9-41b3-82de-2478fdb6c214"
      },
      "execution_count": null,
      "outputs": [
        {
          "output_type": "stream",
          "name": "stdout",
          "text": [
            "elmen pertama: 24\n",
            "elemen terakhir: 21\n"
          ]
        }
      ]
    },
    {
      "cell_type": "code",
      "source": [
        "data = []\n",
        "angka = [24, 20, 50, 60, 21]\n",
        "\n",
        "angka.append(60)\n",
        "print (\"array setelah penmbhan elemen:\", angka)\n",
        "\n",
        "angka.insert(2, 25)\n",
        "print (\"array setelh penambahakn elemen insert:\", angka)\n",
        "\n",
        "angka.remove(25)\n",
        "print (\"array setelah menghapus elemen 25:\", angka)\n",
        "\n",
        "angka.pop(2)\n",
        "print (\"array setelah menghapus elemen pada indeks 2:\", angka)\n"
      ],
      "metadata": {
        "colab": {
          "base_uri": "https://localhost:8080/"
        },
        "id": "UpCQOxDavwSj",
        "outputId": "859f45b1-a8a7-4754-987b-24cecdb74903"
      },
      "execution_count": null,
      "outputs": [
        {
          "output_type": "stream",
          "name": "stdout",
          "text": [
            "array setelah penmbhan elemen: [24, 20, 50, 60, 21, 60]\n",
            "array setelh penambahakn elemen insert: [24, 20, 25, 50, 60, 21, 60]\n",
            "array setelah menghapus elemen 25: [24, 20, 50, 60, 21, 60]\n",
            "array setelah menghapus elemen pada indeks 2: [24, 20, 60, 21, 60]\n"
          ]
        }
      ]
    },
    {
      "cell_type": "code",
      "source": [
        "angka = [24, 20, 50, 60, 21]\n",
        "angka[0] = 100\n",
        "print (\"array setelah mengubah elemen pertama:\", angka)\n"
      ],
      "metadata": {
        "colab": {
          "base_uri": "https://localhost:8080/"
        },
        "id": "3wgRC2i-xzAq",
        "outputId": "ca3e49d1-71e3-4209-a19b-7a84d5d5b888"
      },
      "execution_count": null,
      "outputs": [
        {
          "output_type": "stream",
          "name": "stdout",
          "text": [
            "array setelah mengubah elemen pertama: [100, 20, 50, 60, 21]\n"
          ]
        }
      ]
    },
    {
      "cell_type": "code",
      "source": [
        "\n",
        "#latihan2\n",
        "angka = [24, 20, 50, 60, 21]\n",
        "\n",
        "angka.append(21)\n",
        "print (\"array setelah penambahan elemen:\", angka)\n",
        "\n",
        "angka.pop(0)\n",
        "print (\"array setelah penghapusan elemen:\", angka)"
      ],
      "metadata": {
        "colab": {
          "base_uri": "https://localhost:8080/"
        },
        "id": "_SeZ4TDczjXK",
        "outputId": "d5d55d0b-0e7c-43d7-e4c4-6823c8cc344d"
      },
      "execution_count": null,
      "outputs": [
        {
          "output_type": "stream",
          "name": "stdout",
          "text": [
            "array setelah penambahan elemen: [24, 20, 50, 60, 21, 21]\n",
            "array setelah penghapusan elemen: [20, 50, 60, 21, 21]\n"
          ]
        }
      ]
    },
    {
      "cell_type": "code",
      "source": [
        "angka = [10, 20, 20, 40]\n",
        "\n",
        "for nilai in angka:\n",
        "    print (\"nilai:\", nilai)"
      ],
      "metadata": {
        "colab": {
          "base_uri": "https://localhost:8080/"
        },
        "id": "PH218jAJ1FHQ",
        "outputId": "a02bd05b-0437-4e32-f727-9dd7c3c25659"
      },
      "execution_count": null,
      "outputs": [
        {
          "output_type": "stream",
          "name": "stdout",
          "text": [
            "nilai: 10\n",
            "nilai: 20\n",
            "nilai: 20\n",
            "nilai: 40\n"
          ]
        }
      ]
    },
    {
      "cell_type": "code",
      "source": [
        "#latihan3\n",
        "fakultas = ['teknik', 'pertanian', 'ekonomi', 'ilmu sosial dan ilmu politik', 'keguruan dan ilmu pendidikan']\n",
        "for fakultas in fakultas:\n",
        "    print (\"fakultas:\", fakultas)"
      ],
      "metadata": {
        "colab": {
          "base_uri": "https://localhost:8080/"
        },
        "id": "l_Vy5IbS4JPW",
        "outputId": "beb44a98-80ae-4003-f1c2-7837f6b6983e"
      },
      "execution_count": null,
      "outputs": [
        {
          "output_type": "stream",
          "name": "stdout",
          "text": [
            "fakultas: teknik\n",
            "fakultas: pertanian\n",
            "fakultas: ekonomi\n",
            "fakultas: ilmu sosial dan ilmu politik\n",
            "fakultas: keguruan dan ilmu pendidikan\n"
          ]
        }
      ]
    },
    {
      "cell_type": "code",
      "source": [
        "angka = [10, 20, 30, 40]\n",
        "\n",
        "print([\"jumlah total\", sum(angka)])\n",
        "print([\"nilai maksimal:\", max(angka)])\n",
        "print([\"nilai minimal:\", min(angka)])"
      ],
      "metadata": {
        "colab": {
          "base_uri": "https://localhost:8080/"
        },
        "id": "oqHaZ9mk4tNU",
        "outputId": "b66e862d-4f59-4ec3-9235-3b145542792b"
      },
      "execution_count": null,
      "outputs": [
        {
          "output_type": "stream",
          "name": "stdout",
          "text": [
            "['jumlah total', 100]\n",
            "['nilai maksimal:', 40]\n",
            "['nilai minimal:', 10]\n"
          ]
        }
      ]
    },
    {
      "cell_type": "code",
      "source": [
        "#latihan4\n",
        "harga = [10000, 2000, 300000, 4000000]\n",
        "\n",
        "print([\"jumlah total\", sum(harga)])\n",
        "print([\"nilai maksimal:\", max(harga)])\n",
        "print([\"nilai minimal:\", min(harga)])"
      ],
      "metadata": {
        "colab": {
          "base_uri": "https://localhost:8080/"
        },
        "id": "fb2SIk7O6Tan",
        "outputId": "b1831862-a328-4587-87fe-b00a3303f196"
      },
      "execution_count": null,
      "outputs": [
        {
          "output_type": "stream",
          "name": "stdout",
          "text": [
            "['jumlah total', 4312000]\n",
            "['nilai maksimal:', 4000000]\n",
            "['nilai minimal:', 2000]\n"
          ]
        }
      ]
    },
    {
      "cell_type": "code",
      "source": [
        "matriks = [\n",
        "    [1, 2, 3],\n",
        "    [4, 5, 6],\n",
        "    [7, 8, 9]\n",
        "]\n",
        "\n",
        "print(\"isi array 2D:\")\n",
        "for baris in matriks:\n",
        "    print(baris)"
      ],
      "metadata": {
        "colab": {
          "base_uri": "https://localhost:8080/"
        },
        "id": "62byShsv66nS",
        "outputId": "9a9a9d00-aeec-4dbb-c4ef-041b35ce0be2"
      },
      "execution_count": null,
      "outputs": [
        {
          "output_type": "stream",
          "name": "stdout",
          "text": [
            "isi array 2D:\n",
            "[1, 2, 3]\n",
            "[4, 5, 6]\n",
            "[7, 8, 9]\n"
          ]
        }
      ]
    },
    {
      "cell_type": "code",
      "source": [
        "#latihan5\n",
        "matriks = [\n",
        "    [1, 2, 3, 4],\n",
        "    [4, 5, 6, 7],\n",
        "    [7, 8, 9, 10]\n",
        "]\n",
        "\n",
        "print(\"isi array 2D:\")\n",
        "for baris in matriks:\n",
        "    print(baris)"
      ],
      "metadata": {
        "colab": {
          "base_uri": "https://localhost:8080/"
        },
        "id": "6MxhiLcQ7Nk3",
        "outputId": "09e334a8-120f-40f6-8dda-8bcca4a11f90"
      },
      "execution_count": null,
      "outputs": [
        {
          "output_type": "stream",
          "name": "stdout",
          "text": [
            "isi array 2D:\n",
            "[1, 2, 3, 4]\n",
            "[4, 5, 6, 7]\n",
            "[7, 8, 9, 10]\n"
          ]
        }
      ]
    },
    {
      "cell_type": "code",
      "source": [
        "matriks = [\n",
        "    [1, 2, 3],\n",
        "    [4, 5, 6],\n",
        "    [7, 8, 9]\n",
        "]\n",
        "\n",
        "print (\"elemen pada baris 1, kolom 2 :\", matriks[0][1])\n",
        "print (\"elemen pada baris terakhir, kolom terakhir :\", matriks[-1][-1])"
      ],
      "metadata": {
        "colab": {
          "base_uri": "https://localhost:8080/"
        },
        "id": "ytyhiXB97jS8",
        "outputId": "36bb589d-ab4a-4f96-adcb-8bbbd8d423c3"
      },
      "execution_count": null,
      "outputs": [
        {
          "output_type": "stream",
          "name": "stdout",
          "text": [
            "elemen pada baris 1, kolom 2 : 2\n",
            "elemen pada baris terakhir, kolom terakhir : 9\n"
          ]
        }
      ]
    },
    {
      "cell_type": "code",
      "source": [
        "#latihan6\n",
        "matriks = [\n",
        "    [1, 2, 3, 4],\n",
        "    [4, 5, 6, 7],\n",
        "    [7, 8, 9, 10]\n",
        "]\n",
        "\n",
        "print (\"elemen pada baris 2, kolom 4 :\", matriks[1][3])"
      ],
      "metadata": {
        "colab": {
          "base_uri": "https://localhost:8080/"
        },
        "id": "vI5yu5Ar8Ej5",
        "outputId": "4da7c45e-a7bb-4787-e7d4-deff092b20a4"
      },
      "execution_count": null,
      "outputs": [
        {
          "output_type": "stream",
          "name": "stdout",
          "text": [
            "elemen pada baris 2, kolom 4 : 7\n"
          ]
        }
      ]
    },
    {
      "cell_type": "code",
      "source": [
        "matriks = [\n",
        "    [1, 2, 3],\n",
        "    [4, 5, 6],\n",
        "    [7, 8, 9]\n",
        "]\n",
        "\n",
        "matriks.append([10, 11, 12])\n",
        "print (\"isi array setelah ditambahkan elemen baru:\", matriks)\n",
        "\n",
        "matriks[1].append(99)\n",
        "print (\"array setelah ditambahkanmelemen dibaris ke-2:\", matriks)"
      ],
      "metadata": {
        "colab": {
          "base_uri": "https://localhost:8080/"
        },
        "id": "J7jWrMU68YU-",
        "outputId": "65cc4799-46a5-49ff-a6e6-c5e28b8b00e8"
      },
      "execution_count": null,
      "outputs": [
        {
          "output_type": "stream",
          "name": "stdout",
          "text": [
            "isi array setelah ditambahkan elemen baru: [[1, 2, 3], [4, 5, 6], [7, 8, 9], [10, 11, 12]]\n",
            "array setelah ditambahkanmelemen dibaris ke-2: [[1, 2, 3], [4, 5, 6, 99], [7, 8, 9], [10, 11, 12]]\n"
          ]
        }
      ]
    },
    {
      "cell_type": "code",
      "source": [
        "#latihan7\n",
        "matriks = [\n",
        "    [1, 2, 3, 4],\n",
        "    [4, 5, 6, 7],\n",
        "    [7, 8, 9, 10]\n",
        "]\n",
        "\n",
        "matriks.append([12, 5, 20, 6])\n",
        "print (\"isi array setelah ditambahkan elemen baru:\", matriks)"
      ],
      "metadata": {
        "colab": {
          "base_uri": "https://localhost:8080/"
        },
        "id": "1VHg09OP9GOn",
        "outputId": "8f5496a7-6d60-4f6d-be23-f4b9c707c331"
      },
      "execution_count": null,
      "outputs": [
        {
          "output_type": "stream",
          "name": "stdout",
          "text": [
            "isi array setelah ditambahkan elemen baru: [[1, 2, 3, 4], [4, 5, 6, 7], [7, 8, 9, 10], [12, 5, 20, 6]]\n"
          ]
        }
      ]
    },
    {
      "cell_type": "code",
      "source": [
        "matriks = [\n",
        "    [1, 2, 3, 4],\n",
        "    [4, 5, 6, 7],\n",
        "    [7, 8, 9, 10]\n",
        "]\n",
        "\n",
        "matriks[0].remove(2)\n",
        "print (\"array setelah menghapus elemen 2 dari baris pertama:\", matriks)\n",
        "\n",
        "matriks[1].pop(1)\n",
        "print (\"array setelqah menghapus elemen indeks 1 dari baris 2:\", matriks)"
      ],
      "metadata": {
        "colab": {
          "base_uri": "https://localhost:8080/"
        },
        "id": "YMq8TARv9siy",
        "outputId": "92e1ff7d-8917-4044-ddb8-0a6f55645741"
      },
      "execution_count": null,
      "outputs": [
        {
          "output_type": "stream",
          "name": "stdout",
          "text": [
            "array setelah menghapus elemen 2 dari baris pertama: [[1, 3, 4], [4, 5, 6, 7], [7, 8, 9, 10]]\n",
            "array setelqah menghapus elemen indeks 1 dari baris 2: [[1, 3, 4], [4, 6, 7], [7, 8, 9, 10]]\n"
          ]
        }
      ]
    },
    {
      "cell_type": "code",
      "source": [
        "#latihan8\n",
        "matriks = [\n",
        "    [1, 2, 3, 4],\n",
        "    [4, 5, 6, 7],\n",
        "    [7, 8, 9, 10]\n",
        "]\n",
        "matriks[2].remove(8)\n",
        "print (\" array setelah menghapus elemen ke3 dari baris terakhir:\", matriks)"
      ],
      "metadata": {
        "colab": {
          "base_uri": "https://localhost:8080/"
        },
        "id": "FW2pytUL-grl",
        "outputId": "fa42e507-0bab-4248-b8c0-7bf5180eb47b"
      },
      "execution_count": null,
      "outputs": [
        {
          "output_type": "stream",
          "name": "stdout",
          "text": [
            " array setelah menghapus elemen ke3 dari baris terakhir: [[1, 2, 3, 4], [4, 5, 6, 7], [7, 9, 10]]\n"
          ]
        }
      ]
    },
    {
      "cell_type": "code",
      "source": [
        "matriks = [\n",
        "    [1, 2, 3, 4],\n",
        "    [4, 5, 6, 7],\n",
        "    [7, 8, 9, 10]\n",
        "]\n",
        "\n",
        "matriks[2] [1] = 88\n",
        "print (\"array setelah mengubah elemen baris ke 3, kolom ke 2:\", matriks)"
      ],
      "metadata": {
        "colab": {
          "base_uri": "https://localhost:8080/"
        },
        "id": "P8afKdsC_a1J",
        "outputId": "40e137bd-3711-43e2-9ef3-f63d9c31950f"
      },
      "execution_count": null,
      "outputs": [
        {
          "output_type": "stream",
          "name": "stdout",
          "text": [
            "array setelah mengubah elemen baris ke 3, kolom ke 2: [[1, 2, 3, 4], [4, 5, 6, 7], [7, 88, 9, 10]]\n"
          ]
        }
      ]
    },
    {
      "cell_type": "code",
      "source": [
        "#latihan9\n",
        "matriks = [\n",
        "    [1, 2, 3, 4],\n",
        "    [4, 5, 6, 7],\n",
        "    [7, 8, 9, 10]\n",
        "]\n",
        "\n",
        "matriks[2] [3] = 14\n",
        "print (\"array setelah mengubah elemen baris ke 3, kolom ke 4:\", matriks)\n"
      ],
      "metadata": {
        "colab": {
          "base_uri": "https://localhost:8080/"
        },
        "id": "38mOc7-S_wkC",
        "outputId": "f141a8ac-4a7d-49b2-b076-c18f2d5fb752"
      },
      "execution_count": null,
      "outputs": [
        {
          "output_type": "stream",
          "name": "stdout",
          "text": [
            "array setelah mengubah elemen baris ke 3, kolom ke 4: [[1, 2, 3, 4], [4, 5, 6, 7], [7, 8, 9, 14]]\n"
          ]
        }
      ]
    },
    {
      "cell_type": "code",
      "source": [
        "#latihan10\n",
        "belanja = [\"face wash\", \"menard\", \"ac 2pk\"]\n",
        "belanja.append(\"tiden co\")\n",
        "belanja.remove(\"face wash\")\n",
        "print (\"daftar belanj terbaru:\", belanja)"
      ],
      "metadata": {
        "colab": {
          "base_uri": "https://localhost:8080/"
        },
        "id": "6aU25ZZTAEnq",
        "outputId": "48d8e27a-bdc7-4c49-94b7-64547ec2c4ef"
      },
      "execution_count": null,
      "outputs": [
        {
          "output_type": "stream",
          "name": "stdout",
          "text": [
            "daftar belanj terbaru: ['menard', 'ac 2pk', 'tiden co']\n"
          ]
        }
      ]
    },
    {
      "cell_type": "code",
      "source": [
        "# Ukuran peta\n",
        "size = 10\n",
        "\n",
        "#Membuat peta dengan harta karun tersembunyi\n",
        "treasure_map = [\"_\" for _ in range(size)]\n",
        "\n",
        "#Tentukan lokasi harta karun secara mmanual\n",
        "print(\"selamat datang di treasure hunt! peta memiliki {size} lokasi (0 hingga{size-1}).\")\n",
        "treasure_index = int(input(f\"masukkan lokasi harta karun (0-{size-1}):\"))\n",
        "while treasure_index < 0 or treasure_index >= size:\n",
        "    print(\"lokasi tidak valid, masukan angka dalam rentang yang benar.\")\n",
        "    treasure_index = int(input(f\"masukkan lokasi harta karun (0-{size-1}):\"))\n",
        "\n",
        "treasure_map[treasure_index] = \"X\" #Menyembunyikan harta karun dilokasi yang dipilih\n",
        "\n",
        "#Fungsi untuk memulai permainan\n",
        "def play_treausure_hunt():\n",
        "    print(\"\\n Harta karun telah disembunyikan! sekarang giliran pemain menebak.\")\n",
        "    print(\"\\Cobalah menembukan harta karun dengan menebak indeks yang benar.\")\n",
        "\n",
        "    #Loop permainan\n",
        "    while True:\n",
        "        #Menampilkan peta tersembunyi kepada pemain\n",
        "        print(\"\\nPeta saat ini:\", [\"_\" for _ in range(size)])\n",
        "\n",
        "        try:\n",
        "            guess = int(input(f\"masukkan indeks tebakanmu (0-(size-1))\")) #peta tersembunyi\n",
        "        except ValueError:\n",
        "            print(\"Masukan angka yang valid!\")\n",
        "            continue\n",
        "\n",
        "        #Validasi input\n",
        "        if guess < 0 or guess >= size:\n",
        "            print(\"indeks tidak valid, pilih antara 0 hingga\", size - 1)\n",
        "            continue\n",
        "\n",
        "        #Mengecek apakah tebakan benar\n",
        "        if treasure_map[guess] == \"X\":\n",
        "            print(\"VVV selamat! kamu menemukan harta karun dilokasi:\", guess)\n",
        "            break\n",
        "        else:\n",
        "            print(\"XxX tidak ada harta dilokasi ini. Coba lagi!\")\n",
        "\n",
        "    print(\"Terimakasih sudah bermain!\")\n",
        "\n",
        "# Jalankan permainan\n",
        "play_treausure_hunt()\n"
      ],
      "metadata": {
        "colab": {
          "base_uri": "https://localhost:8080/"
        },
        "id": "dW2lc4984h_X",
        "outputId": "32a87d46-7ccc-4997-e593-f933733e8d50"
      },
      "execution_count": 1,
      "outputs": [
        {
          "output_type": "stream",
          "name": "stdout",
          "text": [
            "selamat datang di treasure hunt! peta memiliki {size} lokasi (0 hingga{size-1}).\n",
            "masukkan lokasi harta karun (0-9):9\n",
            "\n",
            " Harta karun telah disembunyikan! sekarang giliran pemain menebak.\n",
            "\\Cobalah menembukan harta karun dengan menebak indeks yang benar.\n",
            "\n",
            "Peta saat ini: ['_', '_', '_', '_', '_', '_', '_', '_', '_', '_']\n",
            "masukkan indeks tebakanmu (0-(size-1))7\n",
            "XxX tidak ada harta dilokasi ini. Coba lagi!\n",
            "\n",
            "Peta saat ini: ['_', '_', '_', '_', '_', '_', '_', '_', '_', '_']\n",
            "masukkan indeks tebakanmu (0-(size-1))5\n",
            "XxX tidak ada harta dilokasi ini. Coba lagi!\n",
            "\n",
            "Peta saat ini: ['_', '_', '_', '_', '_', '_', '_', '_', '_', '_']\n",
            "masukkan indeks tebakanmu (0-(size-1))9\n",
            "VVV selamat! kamu menemukan harta karun dilokasi: 9\n",
            "Terimakasih sudah bermain!\n"
          ]
        }
      ]
    },
    {
      "cell_type": "code",
      "source": [
        "# Ukuran peta\n",
        "size = 10\n",
        "\n",
        "# Membuat peta dengan harta karun tersembunyi\n",
        "treasure_map = [\"_\" for _ in range(size)]\n",
        "\n",
        "# Tentukan lokasi harta karun secara manual\n",
        "print(f\"Selamat datang di Treasure Hunt! Peta memiliki {size} lokasi (0 hingga {size-1}).\")\n",
        "treasure_index = int(input(f\"Masukkan lokasi harta karun (0-{size-1}): \"))\n",
        "\n",
        "while treasure_index < 0 or treasure_index >= size:\n",
        "    print(\"Lokasi tidak valid, masukkan angka dalam rentang yang benar.\")\n",
        "    treasure_index = int(input(f\"Masukkan lokasi harta karun (0-{size-1}): \"))\n",
        "\n",
        "treasure_map[treasure_index] = \"X\"  # Menyembunyikan harta karun di lokasi yang dipilih\n",
        "\n",
        "# Fungsi untuk memulai permainan\n",
        "def play_treasure_hunt():\n",
        "    print(\"\\nHarta karun telah disembunyikan! Sekarang giliran pemain menebak.\")\n",
        "    print(\"Cobalah menemukan harta karun dengan menebak indeks yang benar.\")\n",
        "\n",
        "    # Loop permainan\n",
        "    while True:\n",
        "        # Menampilkan peta tersembunyi kepada pemain\n",
        "        print(\"\\nPeta saat ini:\", [\"_\" for _ in range(size)])\n",
        "\n",
        "        try:\n",
        "            guess = int(input(f\"Masukkan indeks tebakanmu (0-{size-1}): \"))  # peta tersembunyi\n",
        "        except ValueError:\n",
        "            print(\"Masukkan angka yang valid!\")\n",
        "            continue\n",
        "\n",
        "        # Validasi input\n",
        "        if guess < 0 or guess >= size:\n",
        "            print(f\"Indeks tidak valid, pilih antara 0 hingga {size-1}.\")\n",
        "            continue\n",
        "\n",
        "        # Mengecek apakah tebakan benar\n",
        "        if treasure_map[guess] == \"X\":\n",
        "            print(f\"🎉 Selamat! Kamu menemukan harta karun di lokasi: {guess} 🎉\")\n",
        "            break\n",
        "        else:\n",
        "            print(\"❌ Tidak ada harta di lokasi ini. Coba lagi!\")\n",
        "\n",
        "    print(\"Terima kasih sudah bermain!\")\n",
        "\n",
        "# Jalankan permainan\n",
        "play_treasure_hunt()\n"
      ],
      "metadata": {
        "colab": {
          "base_uri": "https://localhost:8080/"
        },
        "id": "aKoFSpw-rY34",
        "outputId": "bb01c59f-3d2c-4b5f-8fb0-d69fa2b808d0"
      },
      "execution_count": 2,
      "outputs": [
        {
          "output_type": "stream",
          "name": "stdout",
          "text": [
            "Selamat datang di Treasure Hunt! Peta memiliki 10 lokasi (0 hingga 9).\n",
            "Masukkan lokasi harta karun (0-9): 9\n",
            "\n",
            "Harta karun telah disembunyikan! Sekarang giliran pemain menebak.\n",
            "Cobalah menemukan harta karun dengan menebak indeks yang benar.\n",
            "\n",
            "Peta saat ini: ['_', '_', '_', '_', '_', '_', '_', '_', '_', '_']\n",
            "Masukkan indeks tebakanmu (0-9): 0\n",
            "❌ Tidak ada harta di lokasi ini. Coba lagi!\n",
            "\n",
            "Peta saat ini: ['_', '_', '_', '_', '_', '_', '_', '_', '_', '_']\n",
            "Masukkan indeks tebakanmu (0-9): 2\n",
            "❌ Tidak ada harta di lokasi ini. Coba lagi!\n",
            "\n",
            "Peta saat ini: ['_', '_', '_', '_', '_', '_', '_', '_', '_', '_']\n",
            "Masukkan indeks tebakanmu (0-9): 3\n",
            "❌ Tidak ada harta di lokasi ini. Coba lagi!\n",
            "\n",
            "Peta saat ini: ['_', '_', '_', '_', '_', '_', '_', '_', '_', '_']\n",
            "Masukkan indeks tebakanmu (0-9): \n",
            "Masukkan angka yang valid!\n",
            "\n",
            "Peta saat ini: ['_', '_', '_', '_', '_', '_', '_', '_', '_', '_']\n",
            "Masukkan indeks tebakanmu (0-9): 9\n",
            "🎉 Selamat! Kamu menemukan harta karun di lokasi: 9 🎉\n",
            "Terima kasih sudah bermain!\n"
          ]
        }
      ]
    },
    {
      "cell_type": "code",
      "source": [
        "import random\n",
        "\n",
        "# Input ukuran peta dari pengguna\n",
        "size = int(input(\"Masukkan ukuran peta yang diinginkan: \"))\n",
        "\n",
        "# Membuat peta dengan harta karun tersembunyi\n",
        "treasure_map = [\"_\" for _ in range(size)]\n",
        "\n",
        "# Menentukan lokasi harta karun secara acak\n",
        "treasure_index = random.randint(0, size - 1)\n",
        "treasure_map[treasure_index] = \"X\"  # Menyembunyikan harta karun di lokasi yang dipilih\n",
        "\n",
        "print(f\"\\nSelamat datang di Treasure Hunt! Peta memiliki {size} lokasi (0 hingga {size-1}).\")\n",
        "\n",
        "# Fungsi untuk memulai permainan\n",
        "def play_treasure_hunt():\n",
        "    print(\"\\nHarta karun telah disembunyikan! Sekarang giliran pemain menebak.\")\n",
        "    print(\"Cobalah menemukan harta karun dengan menebak indeks yang benar.\")\n",
        "\n",
        "    # Loop permainan\n",
        "    while True:\n",
        "        # Menampilkan peta tersembunyi kepada pemain\n",
        "        print(\"\\nPeta saat ini:\", [\"_\" for _ in range(size)])\n",
        "\n",
        "        try:\n",
        "            guess = int(input(f\"Masukkan indeks tebakanmu (0-{size-1}): \"))  # peta tersembunyi\n",
        "        except ValueError:\n",
        "            print(\"Masukkan angka yang valid!\")\n",
        "            continue\n",
        "\n",
        "        # Validasi input\n",
        "        if guess < 0 or guess >= size:\n",
        "            print(f\"Indeks tidak valid, pilih antara 0 hingga {size-1}.\")\n",
        "            continue\n",
        "\n",
        "        # Mengecek apakah tebakan benar\n",
        "        if treasure_map[guess] == \"X\":\n",
        "            print(f\"🎉 Selamat! Kamu menemukan harta karun di lokasi: {guess} 🎉\")\n",
        "            break\n",
        "        else:\n",
        "            print(\"❌ Tidak ada harta di lokasi ini. Coba lagi!\")\n",
        "\n",
        "    print(\"Terima kasih sudah bermain!\")\n",
        "\n",
        "# Jalankan permainan\n",
        "play_treasure_hunt()\n",
        "3"
      ],
      "metadata": {
        "colab": {
          "base_uri": "https://localhost:8080/"
        },
        "id": "R0Px_RKIsQvh",
        "outputId": "709317f5-7301-4e5a-cb49-a0bfe1181af2"
      },
      "execution_count": 3,
      "outputs": [
        {
          "output_type": "stream",
          "name": "stdout",
          "text": [
            "Masukkan ukuran peta yang diinginkan: 15\n",
            "\n",
            "Selamat datang di Treasure Hunt! Peta memiliki 15 lokasi (0 hingga 14).\n",
            "\n",
            "Harta karun telah disembunyikan! Sekarang giliran pemain menebak.\n",
            "Cobalah menemukan harta karun dengan menebak indeks yang benar.\n",
            "\n",
            "Peta saat ini: ['_', '_', '_', '_', '_', '_', '_', '_', '_', '_', '_', '_', '_', '_', '_']\n",
            "Masukkan indeks tebakanmu (0-14): 12\n",
            "❌ Tidak ada harta di lokasi ini. Coba lagi!\n",
            "\n",
            "Peta saat ini: ['_', '_', '_', '_', '_', '_', '_', '_', '_', '_', '_', '_', '_', '_', '_']\n",
            "Masukkan indeks tebakanmu (0-14): 0\n",
            "❌ Tidak ada harta di lokasi ini. Coba lagi!\n",
            "\n",
            "Peta saat ini: ['_', '_', '_', '_', '_', '_', '_', '_', '_', '_', '_', '_', '_', '_', '_']\n",
            "Masukkan indeks tebakanmu (0-14): 1\n",
            "❌ Tidak ada harta di lokasi ini. Coba lagi!\n",
            "\n",
            "Peta saat ini: ['_', '_', '_', '_', '_', '_', '_', '_', '_', '_', '_', '_', '_', '_', '_']\n",
            "Masukkan indeks tebakanmu (0-14): 2\n",
            "🎉 Selamat! Kamu menemukan harta karun di lokasi: 2 🎉\n",
            "Terima kasih sudah bermain!\n"
          ]
        }
      ]
    }
  ]
}